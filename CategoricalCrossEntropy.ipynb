{
 "cells": [
  {
   "cell_type": "markdown",
   "metadata": {},
   "source": [
    "<center>\n",
    "    <img src=\"https://cf-courses-data.s3.us.cloud-object-storage.appdomain.cloud/assets/logos/SN_web_lightmode.png\" width=\"300\" alt=\"cognitiveclass.ai logo\">\n",
    "</center>\n"
   ]
  },
  {
   "cell_type": "markdown",
   "metadata": {},
   "source": [
    "# **Categorical Cross-Entropy Loss**\n"
   ]
  },
  {
   "cell_type": "markdown",
   "metadata": {},
   "source": [
    "Estimated time needed: **45** minutes\n"
   ]
  },
  {
   "cell_type": "markdown",
   "metadata": {},
   "source": [
    "In this lab, we are going to use the MNIST hand-written digits dataset as a motivating example to understand categorical cross-entropy loss.\n"
   ]
  },
  {
   "cell_type": "markdown",
   "metadata": {},
   "source": [
    "<h1> House Number Detection </h1></s>\n",
    "\n",
    "You have been tasked with building a model that can recognize house numbers from arbitrary street-view images. You are given a set of images of single-digit house numbers engraved into slates or wall surfaces. The images vary in size and color. In this lab, we are going to use the MNIST hand-written digits dataset as a motivating example to understand the __softmax function__, __one-hot encoding__, and __categorical cross-entropy loss__. The MNIST hand-written dataset has 10 classes, each representing a digit from 0-9. We will attempt to build a multi-class classification model that will identify which digit is present in the image. \n"
   ]
  },
  {
   "cell_type": "markdown",
   "metadata": {},
   "source": [
    "<img src=\"https://cf-courses-data.s3.us.cloud-object-storage.appdomain.cloud/IBMDeveloperSkillsNetwork-ML311-Coursera/labs/Module3/L1/house_number.jpg\" style=\"width: 30%\">\n",
    "\n",
    "<!-- Original Source: https://slate.com/human-interest/2020/06/a-quest-to-catalogue-every-single-house-number-in-one-suburban-zip-code.html --> \n"
   ]
  },
  {
   "cell_type": "markdown",
   "metadata": {},
   "source": [
    "## **Table of Contents**\n",
    "\n",
    "<ol>\n",
    "    <li><a href=\"https://#Objectives\">Objectives</a></li>\n",
    "    <li><a href=\"https://#Datasets\">Datasets</a></li>\n",
    "    <li>\n",
    "        <a href=\"https://#Setup\">Setup</a>\n",
    "        <ol>\n",
    "            <li><a href=\"https://#Installing-Required-Libraries\">Installing Required Libraries</a></li>\n",
    "            <li><a href=\"https://#Importing-Required-Libraries\">Importing Required Libraries</a></li>\n",
    "            <li><a href=\"https://#Defining-Helper-Functions\">Defining Helper Functions</a></li>\n",
    "        </ol>\n",
    "    </li>\n",
    "    <li><a href=\"https://https://#Categorical Cross-Entropy\">Categorical Cross-Entropy</a>\n",
    "        <ol>\n",
    "            <li><a href=\"https://#Softmax Activation Function\">Softmax Activation Function</a></li>\n",
    "            <li><a href=\"https://#One-Hot Encoding\">One-Hot Encoding</a></li>\n",
    "            <li><a href=\"#Categorical Cross-Entropy\">Categorical Cross-Entropy</a></li>\n",
    "        </ol>\n",
    "    </li>\n",
    "    <li><a href=\"https://#Binary vs. Multi-Class Classification\">Binary vs. Multi-Class Classification</a>\n",
    "        <ol>\n",
    "            <li><a href=\"https://#Binary Classification\">Binary Classification</a></li>\n",
    "            <li><a href=\"https://#Multi-Class Classification\">Multi-Class Classification</a></li>\n",
    "        </ol>\n",
    "    </li>\n",
    "    <li>\n",
    "        <a href=\"https://#Example: MNIST Hand-Written Digits\">Example: MNIST Hand-Written Digits</a> </li>\n",
    "    <li>\n",
    "        <a href=\"https://#Example: Single-Digit House Number Recognition\"> Example: Single-Digit House Number Recognition</a> </li>\n",
    "    <li><a href=\"https://#Exercises\">Exercises</a>\n",
    "        <ol>\n",
    "            <li><a href=\"https://#Exercise 1 - Loading and plotting the images\">Exercise 1 - Loading and plotting the images</a></li>\n",
    "            <li><a href=\"https://#Exercise 2 - Preparing the data\">Exercise 2 - Preparing the data</a></li>\n",
    "            <li><a href=\"https://#Exercise 3 - One-hot encoding\">Exercise 3 - One-hot encoding</a></li>\n",
    "            <li><a href=\"https://#Exercise 4 - Build model architecture\">Exercise 4 - Build model architecture</a></li>\n",
    "            <li><a href=\"https://#(Optional) Exercise 5 - Sparse Categorical Cross-Entropy\">Sparse Categorical Cross-Entropy</a></li>\n",
    "        </ol>\n",
    "    </li>\n",
    "</ol>\n"
   ]
  },
  {
   "cell_type": "markdown",
   "metadata": {},
   "source": [
    "## Objectives\n",
    "\n",
    "After completing this lab you will be able to:\n",
    "\n",
    "*   **Understand** what categorical cross-entropy is, and how it works with the Softmax activation function.\n",
    "*   **Build** simple CNN models for binary and multi-class classification.\n"
   ]
  },
  {
   "cell_type": "markdown",
   "metadata": {},
   "source": [
    "## Setup\n"
   ]
  },
  {
   "cell_type": "markdown",
   "metadata": {},
   "source": [
    "For this lab, we will be using the following libraries:\n",
    "\n",
    "*   [`pandas`](https://pandas.pydata.org/?utm_medium=Exinfluencer&utm_source=Exinfluencer&utm_content=000026UJ&utm_term=10006555&utm_id=NA-SkillsNetwork-Channel-SkillsNetworkCoursesIBMML0187ENSkillsNetwork31430127-2021-01-01) for managing the data.\n",
    "*   [`numpy`](https://numpy.org/?utm_medium=Exinfluencer&utm_source=Exinfluencer&utm_content=000026UJ&utm_term=10006555&utm_id=NA-SkillsNetwork-Channel-SkillsNetworkCoursesIBMML0187ENSkillsNetwork31430127-2021-01-01) for mathematical operations.\n",
    "*   [`sklearn`](https://scikit-learn.org/stable/?utm_medium=Exinfluencer&utm_source=Exinfluencer&utm_content=000026UJ&utm_term=10006555&utm_id=NA-SkillsNetwork-Channel-SkillsNetworkCoursesIBMML0187ENSkillsNetwork31430127-2021-01-01) for machine learning and machine-learning-pipeline related functions.\n",
    "*   [`seaborn`](https://seaborn.pydata.org/?utm_medium=Exinfluencer&utm_source=Exinfluencer&utm_content=000026UJ&utm_term=10006555&utm_id=NA-SkillsNetwork-Channel-SkillsNetworkCoursesIBMML0187ENSkillsNetwork31430127-2021-01-01) for visualizing the data.\n",
    "*   [`matplotlib`](https://matplotlib.org/?utm_medium=Exinfluencer&utm_source=Exinfluencer&utm_content=000026UJ&utm_term=10006555&utm_id=NA-SkillsNetwork-Channel-SkillsNetworkCoursesIBMML0187ENSkillsNetwork31430127-2021-01-01) for additional plotting tools.\n",
    "*   [`keras`](https://keras.io/?utm_medium=Exinfluencer&utm_source=Exinfluencer&utm_content=000026UJ&utm_term=10006555&utm_id=NA-SkillsNetwork-Channel-SkillsNetworkCoursesIBMML0187ENSkillsNetwork31430127-2021-01-01) for loading datasets.\n"
   ]
  },
  {
   "cell_type": "markdown",
   "metadata": {},
   "source": [
    "### Installing Required Libraries\n",
    "\n",
    "The following required libraries are pre-installed in the Skills Network Labs environment. However, if you run these notebook commands in a different Jupyter environment (like Watson Studio or Ananconda), you will need to install these libraries by removing the `#` sign before `!pip install mlxtend` in the following code cell.\n"
   ]
  },
  {
   "cell_type": "markdown",
   "metadata": {},
   "source": [
    "The following required libraries are **not** pre-installed in the Skills Network Labs environment. **You will need to run the following cell** to install them. **Please RESTART KERNEL after installation,**.\n"
   ]
  },
  {
   "cell_type": "code",
   "execution_count": 36,
   "metadata": {
    "tags": []
   },
   "outputs": [],
   "source": [
    "%%capture\n",
    "\n",
    "!pip install mlxtend\n",
    "!pip install --upgrade tensorflow"
   ]
  },
  {
   "cell_type": "markdown",
   "metadata": {},
   "source": [
    "### Importing Required Libraries\n"
   ]
  },
  {
   "cell_type": "code",
   "execution_count": 37,
   "metadata": {
    "tags": []
   },
   "outputs": [
    {
     "name": "stdout",
     "output_type": "stream",
     "text": [
      "2.11.0\n"
     ]
    }
   ],
   "source": [
    "import cv2\n",
    "from urllib.request import urlopen\n",
    "from PIL import Image\n",
    "import IPython\n",
    "import numpy as np\n",
    "from matplotlib import pyplot as plt\n",
    "import pandas as pd, numpy as np\n",
    "from keras.datasets import mnist, fashion_mnist\n",
    "import random\n",
    "from sklearn.preprocessing import OneHotEncoder\n",
    "from tensorflow.keras.losses import CategoricalCrossentropy,SparseCategoricalCrossentropy,BinaryCrossentropy\n",
    "from sklearn.datasets import make_blobs\n",
    "from mlxtend.plotting import plot_decision_regions\n",
    "import tensorflow as tf\n",
    "print(tf.__version__)\n",
    "from sklearn import preprocessing\n",
    "from tensorflow.keras.utils import to_categorical\n",
    "from tensorflow.keras.models import Sequential\n",
    "from tensorflow.keras.layers import Dense"
   ]
  },
  {
   "cell_type": "markdown",
   "metadata": {},
   "source": [
    "### Defining Helper Functions\n",
    "\n",
    "*Use this section to define any helper functions to help the notebook's code readability:*\n"
   ]
  },
  {
   "cell_type": "code",
   "execution_count": 38,
   "metadata": {
    "tags": []
   },
   "outputs": [],
   "source": [
    "def generate_multiclass_blobs(num_samples_total, training_split, cluster_centers, num_classes, loss_function_used):\n",
    "    X, targets = make_blobs(n_samples = num_samples_total, centers = cluster_centers, n_features = num_classes, center_box=(0, 1), cluster_std = 1.5)\n",
    "    categorical_targets = to_categorical(targets)\n",
    "    X_training = X[training_split:, :]\n",
    "    X_testing = X[:training_split, :]\n",
    "    Targets_training = categorical_targets[training_split:]\n",
    "    Targets_testing = categorical_targets[:training_split].astype(np.int32)\n",
    "    return X_training, Targets_training, X_testing, Targets_testing\n",
    "\n",
    "\n",
    "def generate_binary_blobs(num_samples_total, training_split, loss_function_used):\n",
    "    X, targets = make_blobs(n_samples = num_samples_total, centers = [(0,0), (15,15)], n_features = 2, center_box=(0, 1), cluster_std = 2.5)\n",
    "    targets[np.where(targets == 0)] = -1\n",
    "    X_training = X[training_split:, :]\n",
    "    X_testing = X[:training_split, :]\n",
    "    Targets_training = targets[training_split:]\n",
    "    Targets_testing = targets[:training_split]\n",
    "    return X_training, Targets_training, X_testing, Targets_testing"
   ]
  },
  {
   "cell_type": "markdown",
   "metadata": {},
   "source": [
    "## Categorical Cross-Entropy\n"
   ]
  },
  {
   "cell_type": "markdown",
   "metadata": {},
   "source": [
    "When working on a machine learning problem, we use loss functions to optimize our models during training where a common objective is to minimize the loss function.\n",
    "\n",
    "Cross-entropy is a widely used loss or cost function, that is used to optimize classification models. Before delving into cross-entropy, let us first cover the prerequisites by learning about a common activation function called Softmax.\n"
   ]
  },
  {
   "cell_type": "markdown",
   "metadata": {},
   "source": [
    "### Softmax Activation Function\n"
   ]
  },
  {
   "cell_type": "markdown",
   "metadata": {},
   "source": [
    "Activation functions are transformations applied to the output from CNNs before loss computations.\n"
   ]
  },
  {
   "cell_type": "markdown",
   "metadata": {},
   "source": [
    "The Softmax activation function is typically placed as the last layer in a neural network and used to normalize the output of a network to a probability distribution over predicted output classes.\n",
    "\n",
    "It does so by scaling numbers/logits into probabilities for each possible outcome or class present in our dataset. The resulting probabilities in the vector sum up to one.\n",
    "\n",
    "Mathematically, Softmax is defined as follows:\n",
    "\n",
    "<img src=\"https://cf-courses-data.s3.us.cloud-object-storage.appdomain.cloud/IBMDeveloperSkillsNetwork-ML311-Coursera/labs/Module3/L1/softmax.png\" style=\"width: 30%\">\n"
   ]
  },
  {
   "cell_type": "markdown",
   "metadata": {},
   "source": [
    "Here, $\\overrightarrow{{z}}$ is an input vector to the Softmax function $\\sigma$.\n",
    "\n",
    "$\\overrightarrow{{z}}\\_i$ represents the $i$th element of the input vector, and can take on values from -inf to inf.\n",
    "\n",
    "$\\overrightarrow{{z}}_i$ represents the $i$th element of the input vector, and can take on values from -inf to inf. \n",
    "\n",
    "$e^{z_i}$ is a standard exponential function applied on the $i$th element of $z$, and the denominator is a normalizing term (L1-norm) to ensure the result is a valid probability distribution, that is, sums up to 1, and values are within the 0 - 1 range.\n"
   ]
  },
  {
   "cell_type": "markdown",
   "metadata": {},
   "source": [
    "Exponential is a steeply increasing function; that is, it increases the difference between outputs. In the final output, the largest element (which dominates the norm) is normalized to a value close to 1, while all the other elements end up being close to 0. Not only does the resulting vector show the winning class, but it also retains the original order of values.\n",
    "\n",
    "\n",
    "Another important point to note is that Softmax is not affected by negative values, as the exponent of any value is always a positive value.\n"
   ]
  },
  {
   "cell_type": "markdown",
   "metadata": {},
   "source": [
    "Let us walk through an example to understand Softmax.\n"
   ]
  },
  {
   "cell_type": "markdown",
   "metadata": {},
   "source": [
    "Imagine you are building a CNN model to classify an image as a dog, cat, fish, or horse. The fully-connected layer of your CNN gives a vector of logits. You pass the vector through the Softmax function above to obtain probabilities.\n"
   ]
  },
  {
   "cell_type": "markdown",
   "metadata": {},
   "source": [
    "![](https://cf-courses-data.s3.us.cloud-object-storage.appdomain.cloud/IBMDeveloperSkillsNetwork-ML311-Coursera/labs/Module3/L1/cce_diag.png)\n"
   ]
  },
  {
   "cell_type": "markdown",
   "metadata": {},
   "source": [
    "### One-Hot Encoding\n"
   ]
  },
  {
   "cell_type": "markdown",
   "metadata": {},
   "source": [
    "The ground truth is typically presented in form of categorical data; that is, a given image is categorized into one of these classes: dog, cat, fish, or horse.\n"
   ]
  },
  {
   "cell_type": "markdown",
   "metadata": {},
   "source": [
    "For categorical variables where no ordinal relationships exist, we can perform one-hot encoding to represent each class. This is best explained through an example.\n",
    "\n",
    "In our case, we will have four classes, and these are the corresponding one-hot encoded labels:\n"
   ]
  },
  {
   "cell_type": "markdown",
   "metadata": {},
   "source": [
    "<img src=\"https://cf-courses-data.s3.us.cloud-object-storage.appdomain.cloud/IBMDeveloperSkillsNetwork-ML311-Coursera/labs/Module3/L1/ohe_labels.png\" style=\"width: 50%\">\n"
   ]
  },
  {
   "cell_type": "markdown",
   "metadata": {},
   "source": [
    "So in one-hot encoding, we represent labels with a binary variable where for every given class, we have the value 1 for the position corresponding to that particular class and 0 elsewhere (that is, 100% probability of belonging to that class).\n"
   ]
  },
  {
   "cell_type": "markdown",
   "metadata": {},
   "source": [
    "### Back to Categorical Cross-Entropy\n"
   ]
  },
  {
   "cell_type": "markdown",
   "metadata": {},
   "source": [
    "Now that we have converted the logits to output probabilities, we need to measure how good they are; that is, measure the distance from the truth values.\n"
   ]
  },
  {
   "cell_type": "markdown",
   "metadata": {},
   "source": [
    "For instance, in the example above, the desired output is [1,0,0,0], but the model outputs [0.775,0.116,0.039,0.070].\n"
   ]
  },
  {
   "cell_type": "markdown",
   "metadata": {},
   "source": [
    "The categorical cross-entropy is mathematically defined as follows:\n"
   ]
  },
  {
   "cell_type": "markdown",
   "metadata": {},
   "source": [
    "<img src=\"https://cf-courses-data.s3.us.cloud-object-storage.appdomain.cloud/IBMDeveloperSkillsNetwork-ML311-Coursera/labs/Module3/L1/cce.png\" style=\"width: 30%\">\n"
   ]
  },
  {
   "cell_type": "markdown",
   "metadata": {},
   "source": [
    "We can use the formula above to compute the cross-entropy loss. When training our model, we iteratively update the weights to minimize the cross-entropy loss. \n",
    "\n",
    "The Softmax is continuously differentiable, and this property makes it easy to compute the derivative of the loss function and, accordingly, adjust the model weights in each iteration to minimize the loss function.\n",
    "\n",
    "In the next iteration, if our $$L\\_{CE}$$ is lower than the current one, we say that the model is *learning*.\n"
   ]
  },
  {
   "cell_type": "markdown",
   "metadata": {},
   "source": [
    "## Binary vs. Multi-Class Classification\n"
   ]
  },
  {
   "cell_type": "markdown",
   "metadata": {},
   "source": [
    "Now, let us do a quick review of binary and multi-class classification. Binary classification tasks require that all examples be assigned to one of two classes, whereas in multi-class classification, examples can belong to more than two classes.\n",
    "\n",
    "For binary classification problems, we have a final layer with a single node and a sigmoid activation function. It can map the output vector from a CNN to values between 0 and 1 before loss computations. The sigmoid function is denoted using the following formula:\n",
    "\n",
    "$$\\sigma(x) = 1/(1+e^{-x})$$\n"
   ]
  },
  {
   "cell_type": "markdown",
   "metadata": {},
   "source": [
    "Let's see binary classification and multi-class classification in action.\n"
   ]
  },
  {
   "cell_type": "markdown",
   "metadata": {},
   "source": [
    "### Binary Classification\n"
   ]
  },
  {
   "cell_type": "markdown",
   "metadata": {},
   "source": [
    "Using a helper function defined at the beginning of the notebook, we will use the `make_blobs()` function from `sklearn` to generate isotropic Gaussian blobs for classification.\n",
    "\n",
    "We will create a data set with 1000 samples, and use 750 of those samples for training a simple CNN model.\n"
   ]
  },
  {
   "cell_type": "markdown",
   "metadata": {},
   "source": [
    "Let us define a few more configuration options.\n"
   ]
  },
  {
   "cell_type": "markdown",
   "metadata": {},
   "source": [
    "*   **num_samples**: refers to the total number of samples in our dataset\n",
    "*   **test_split**: refers to the number of samples to be used for testing\n",
    "*   **cluster_centers**: we define 2 centers for our isotropic Gaussian blobs\n",
    "*   **num_classes**: we have 2 classes\n",
    "*   **loss_function_used**: since this is a binary classification problem, we use binary cross-entropy loss\n"
   ]
  },
  {
   "cell_type": "code",
   "execution_count": 39,
   "metadata": {
    "tags": []
   },
   "outputs": [],
   "source": [
    "num_samples = 1000\n",
    "test_split = 250\n",
    "cluster_centers = [(15,0), (30,15)]\n",
    "num_classes = len(cluster_centers)\n",
    "loss_function_used = BinaryCrossentropy(from_logits=True)"
   ]
  },
  {
   "cell_type": "code",
   "execution_count": 40,
   "metadata": {
    "tags": []
   },
   "outputs": [],
   "source": [
    "X_training, Targets_training, X_testing, Targets_testing=generate_binary_blobs(num_samples, test_split, loss_function_used)\n"
   ]
  },
  {
   "cell_type": "markdown",
   "metadata": {},
   "source": [
    "We can take look at one of the samples.\n"
   ]
  },
  {
   "cell_type": "code",
   "execution_count": 41,
   "metadata": {
    "tags": []
   },
   "outputs": [
    {
     "data": {
      "image/png": "[encoded data removed]",
      "text/plain": [
       "<Figure size 400x400 with 1 Axes>"
      ]
     },
     "metadata": {},
     "output_type": "display_data"
    }
   ],
   "source": [
    "plt.figure(figsize=(4, 4))\n",
    "plt.scatter(X_training[:,0], X_training[:,1])\n",
    "plt.title('Linearly separable data')\n",
    "plt.xlabel('X1')\n",
    "plt.ylabel('X2')\n",
    "plt.show()"
   ]
  },
  {
   "cell_type": "markdown",
   "metadata": {},
   "source": [
    "We will build a simple CNN model with two hidden layers, that uses sigmoid as the activation function, and binary cross-entropy as the loss function. Let's define the architecture of our model:\n"
   ]
  },
  {
   "cell_type": "code",
   "execution_count": 42,
   "metadata": {
    "tags": []
   },
   "outputs": [],
   "source": [
    "feature_vector_shape = X_training.shape[1]\n",
    "input_shape = (feature_vector_shape,)\n",
    "\n",
    "model = Sequential()\n",
    "model.add(Dense(12, input_shape=input_shape, activation='relu', kernel_initializer='he_uniform'))\n",
    "model.add(Dense(8, activation='relu', kernel_initializer='he_uniform'))\n",
    "model.add(Dense(1, activation = 'sigmoid'))"
   ]
  },
  {
   "cell_type": "code",
   "execution_count": 43,
   "metadata": {
    "tags": []
   },
   "outputs": [
    {
     "name": "stderr",
     "output_type": "stream",
     "text": [
      "WARNING:absl:`lr` is deprecated, please use `learning_rate` instead, or use the legacy optimizer, e.g.,tf.keras.optimizers.legacy.Adam.\n"
     ]
    },
    {
     "name": "stdout",
     "output_type": "stream",
     "text": [
      "Epoch 1/30\n"
     ]
    },
    {
     "name": "stderr",
     "output_type": "stream",
     "text": [
      "/home/jupyterlab/conda/envs/python/lib/python3.7/site-packages/keras/backend.py:5677: UserWarning: \"`binary_crossentropy` received `from_logits=True`, but the `output` argument was produced by a Sigmoid activation and thus does not represent logits. Was this intended?\n",
      "  output, from_logits, \"Sigmoid\", \"binary_crossentropy\"\n"
     ]
    },
    {
     "name": "stdout",
     "output_type": "stream",
     "text": [
      "120/120 [==============================] - 1s 5ms/step - loss: 5.6586 - accuracy: 0.1117 - val_loss: -1.7461 - val_accuracy: 0.5000\n",
      "Epoch 2/30\n",
      "120/120 [==============================] - 0s 3ms/step - loss: -2.7206 - accuracy: 0.4883 - val_loss: -3.4846 - val_accuracy: 0.4800\n",
      "Epoch 3/30\n",
      "120/120 [==============================] - 0s 3ms/step - loss: -5.0888 - accuracy: 0.4717 - val_loss: -6.3410 - val_accuracy: 0.5067\n",
      "Epoch 4/30\n",
      "120/120 [==============================] - 0s 3ms/step - loss: -9.1236 - accuracy: 0.4833 - val_loss: -11.1384 - val_accuracy: 0.5067\n",
      "Epoch 5/30\n",
      "120/120 [==============================] - 0s 3ms/step - loss: -15.3564 - accuracy: 0.4833 - val_loss: -18.1877 - val_accuracy: 0.4867\n",
      "Epoch 6/30\n",
      "120/120 [==============================] - 0s 3ms/step - loss: -24.4645 - accuracy: 0.4783 - val_loss: -28.5981 - val_accuracy: 0.4933\n",
      "Epoch 7/30\n",
      "120/120 [==============================] - 0s 3ms/step - loss: -37.3840 - accuracy: 0.4783 - val_loss: -42.7351 - val_accuracy: 0.4533\n",
      "Epoch 8/30\n",
      "120/120 [==============================] - 0s 3ms/step - loss: -55.4524 - accuracy: 0.4817 - val_loss: -62.8264 - val_accuracy: 0.5067\n",
      "Epoch 9/30\n",
      "120/120 [==============================] - 0s 4ms/step - loss: -79.9142 - accuracy: 0.4783 - val_loss: -88.7582 - val_accuracy: 0.4933\n",
      "Epoch 10/30\n",
      "120/120 [==============================] - 0s 3ms/step - loss: -111.1419 - accuracy: 0.4750 - val_loss: -122.8100 - val_accuracy: 0.5067\n",
      "Epoch 11/30\n",
      "120/120 [==============================] - 0s 3ms/step - loss: -150.5230 - accuracy: 0.4700 - val_loss: -163.9957 - val_accuracy: 0.5133\n",
      "Epoch 12/30\n",
      "120/120 [==============================] - 0s 3ms/step - loss: -198.4931 - accuracy: 0.4783 - val_loss: -214.0153 - val_accuracy: 0.4933\n",
      "Epoch 13/30\n",
      "120/120 [==============================] - 0s 4ms/step - loss: -256.5844 - accuracy: 0.4733 - val_loss: -273.9443 - val_accuracy: 0.4800\n",
      "Epoch 14/30\n",
      "120/120 [==============================] - 0s 3ms/step - loss: -325.1966 - accuracy: 0.4750 - val_loss: -343.8723 - val_accuracy: 0.4800\n",
      "Epoch 15/30\n",
      "120/120 [==============================] - 0s 3ms/step - loss: -403.7175 - accuracy: 0.4750 - val_loss: -425.7157 - val_accuracy: 0.4800\n",
      "Epoch 16/30\n",
      "120/120 [==============================] - 0s 3ms/step - loss: -493.0873 - accuracy: 0.4683 - val_loss: -513.5461 - val_accuracy: 0.5000\n",
      "Epoch 17/30\n",
      "120/120 [==============================] - 0s 3ms/step - loss: -593.6486 - accuracy: 0.4783 - val_loss: -614.7367 - val_accuracy: 0.4933\n",
      "Epoch 18/30\n",
      "120/120 [==============================] - 0s 3ms/step - loss: -705.2332 - accuracy: 0.4767 - val_loss: -724.0311 - val_accuracy: 0.4933\n",
      "Epoch 19/30\n",
      "120/120 [==============================] - 0s 3ms/step - loss: -827.8713 - accuracy: 0.4800 - val_loss: -848.5729 - val_accuracy: 0.4933\n",
      "Epoch 20/30\n",
      "120/120 [==============================] - 0s 3ms/step - loss: -961.9756 - accuracy: 0.4717 - val_loss: -982.9036 - val_accuracy: 0.5000\n",
      "Epoch 21/30\n",
      "120/120 [==============================] - 0s 3ms/step - loss: -1108.7993 - accuracy: 0.4833 - val_loss: -1126.4337 - val_accuracy: 0.4867\n",
      "Epoch 22/30\n",
      "120/120 [==============================] - 0s 3ms/step - loss: -1268.7347 - accuracy: 0.4733 - val_loss: -1287.9122 - val_accuracy: 0.5000\n",
      "Epoch 23/30\n",
      "120/120 [==============================] - 0s 4ms/step - loss: -1442.3751 - accuracy: 0.4883 - val_loss: -1463.4449 - val_accuracy: 0.4867\n",
      "Epoch 24/30\n",
      "120/120 [==============================] - 0s 3ms/step - loss: -1630.7015 - accuracy: 0.4733 - val_loss: -1648.9518 - val_accuracy: 0.5000\n",
      "Epoch 25/30\n",
      "120/120 [==============================] - 0s 3ms/step - loss: -1834.0221 - accuracy: 0.4783 - val_loss: -1845.4658 - val_accuracy: 0.4867\n",
      "Epoch 26/30\n",
      "120/120 [==============================] - 0s 3ms/step - loss: -2052.0217 - accuracy: 0.4767 - val_loss: -2061.1663 - val_accuracy: 0.5000\n",
      "Epoch 27/30\n",
      "120/120 [==============================] - 0s 3ms/step - loss: -2284.7832 - accuracy: 0.4800 - val_loss: -2289.6414 - val_accuracy: 0.4800\n",
      "Epoch 28/30\n",
      "120/120 [==============================] - 0s 3ms/step - loss: -2532.5476 - accuracy: 0.4717 - val_loss: -2534.2542 - val_accuracy: 0.4867\n",
      "Epoch 29/30\n",
      "120/120 [==============================] - 0s 3ms/step - loss: -2794.7036 - accuracy: 0.4817 - val_loss: -2794.3113 - val_accuracy: 0.4733\n",
      "Epoch 30/30\n",
      "120/120 [==============================] - 0s 3ms/step - loss: -3071.0581 - accuracy: 0.4783 - val_loss: -3066.2412 - val_accuracy: 0.4800\n"
     ]
    }
   ],
   "source": [
    "model.compile(loss=loss_function_used, optimizer=tf.keras.optimizers.Adam(lr=0.01), metrics=['accuracy'])\n",
    "history = model.fit(X_training, Targets_training, epochs=30, batch_size=5, verbose=1, validation_split=0.2)"
   ]
  },
  {
   "cell_type": "markdown",
   "metadata": {},
   "source": [
    "We will now use the trained model to make predictions on an unseen test dataset.\n"
   ]
  },
  {
   "cell_type": "code",
   "execution_count": 44,
   "metadata": {
    "tags": []
   },
   "outputs": [
    {
     "name": "stdout",
     "output_type": "stream",
     "text": [
      "8/8 [==============================] - 0s 2ms/step - loss: -3242.9417 - accuracy: 0.4360\n",
      "Test results - Loss: -3242.941650390625 - Accuracy: 43.59999895095825%\n"
     ]
    }
   ],
   "source": [
    "test_results = model.evaluate(X_testing, Targets_testing, verbose=1)\n",
    "print(f'Test results - Loss: {test_results[0]} - Accuracy: {test_results[1]*100}%')"
   ]
  },
  {
   "cell_type": "code",
   "execution_count": 45,
   "metadata": {
    "tags": []
   },
   "outputs": [
    {
     "name": "stdout",
     "output_type": "stream",
     "text": [
      "11250/11250 [==============================] - 15s 1ms/step\n"
     ]
    },
    {
     "data": {
      "image/png": "[encoded data removed]",
      "text/plain": [
       "<Figure size 600x600 with 1 Axes>"
      ]
     },
     "metadata": {},
     "output_type": "display_data"
    },
    {
     "data": {
      "text/plain": [
       "<Figure size 400x400 with 0 Axes>"
      ]
     },
     "metadata": {},
     "output_type": "display_data"
    }
   ],
   "source": [
    "plot_decision_regions(X_testing, Targets_testing, clf=model, legend=2)\n",
    "plt.figure(figsize=(4, 4))\n",
    "plt.show()"
   ]
  },
  {
   "cell_type": "markdown",
   "metadata": {},
   "source": [
    "The model successfully classifies the two clusters into two classes.\n"
   ]
  },
  {
   "cell_type": "markdown",
   "metadata": {},
   "source": [
    "### Multi-Class Classification\n"
   ]
  },
  {
   "cell_type": "markdown",
   "metadata": {},
   "source": [
    "Similar to binary classification, let's create another data set with 1000 samples, and use 750 of those samples for training a simple CNN model.\n"
   ]
  },
  {
   "cell_type": "markdown",
   "metadata": {},
   "source": [
    "Let us define a few more configuration options.\n"
   ]
  },
  {
   "cell_type": "markdown",
   "metadata": {},
   "source": [
    "*   **num_samples**: refers to the total number of samples in our dataset\n",
    "*   **test_split**: refers to the number of samples to be used for testing\n",
    "*   **cluster_centers**: we define 3 centers for our isotropic Gaussian blobs\n",
    "*   **num_classes**: we have 3 classes\n",
    "*   **loss_function_used**: since this is a multi-class classification problem, we use categorical cross-entropy loss\n"
   ]
  },
  {
   "cell_type": "code",
   "execution_count": 46,
   "metadata": {
    "tags": []
   },
   "outputs": [],
   "source": [
    "num_samples = 1000\n",
    "train_split = 250\n",
    "cluster_centers = [(-10, 5), (0, 0), (10, 5)]\n",
    "num_classes = len(cluster_centers)\n",
    "loss_function_used = CategoricalCrossentropy(from_logits=True)"
   ]
  },
  {
   "cell_type": "code",
   "execution_count": 47,
   "metadata": {
    "tags": []
   },
   "outputs": [],
   "source": [
    "X_training, Targets_training, X_testing, Targets_testing= generate_multiclass_blobs(num_samples, train_split,\n",
    "              cluster_centers, num_classes,\n",
    "              loss_function_used)"
   ]
  },
  {
   "cell_type": "markdown",
   "metadata": {},
   "source": [
    "Let's take a look at one of the samples.\n"
   ]
  },
  {
   "cell_type": "code",
   "execution_count": 48,
   "metadata": {
    "tags": []
   },
   "outputs": [
    {
     "data": {
      "image/png": "[encoded data removed]",
      "text/plain": [
       "<Figure size 600x600 with 1 Axes>"
      ]
     },
     "metadata": {},
     "output_type": "display_data"
    }
   ],
   "source": [
    "plt.scatter(X_training[:,0], X_training[:,1])\n",
    "plt.title('Linearly separable data')\n",
    "plt.xlabel('X1')\n",
    "plt.ylabel('X2')\n",
    "plt.show()"
   ]
  },
  {
   "cell_type": "markdown",
   "metadata": {},
   "source": [
    "We will build a simple CNN model with two hidden layers, that uses softmax as the activation function, and categorical cross-entropy as the loss function. Let's define the architecture of our model:\n"
   ]
  },
  {
   "cell_type": "code",
   "execution_count": 49,
   "metadata": {
    "tags": []
   },
   "outputs": [],
   "source": [
    "feature_vector_shape = X_training.shape[1]\n",
    "input_shape = (feature_vector_shape,)\n",
    "\n",
    "model = Sequential()\n",
    "model.add(Dense(12, input_shape=input_shape, activation='relu', kernel_initializer='he_uniform'))\n",
    "model.add(Dense(8, activation='relu', kernel_initializer='he_uniform'))\n",
    "model.add(Dense(num_classes, activation='softmax'))"
   ]
  },
  {
   "cell_type": "code",
   "execution_count": 50,
   "metadata": {
    "tags": []
   },
   "outputs": [
    {
     "name": "stderr",
     "output_type": "stream",
     "text": [
      "WARNING:absl:`lr` is deprecated, please use `learning_rate` instead, or use the legacy optimizer, e.g.,tf.keras.optimizers.legacy.Adam.\n"
     ]
    },
    {
     "name": "stdout",
     "output_type": "stream",
     "text": [
      "Epoch 1/30\n"
     ]
    },
    {
     "name": "stderr",
     "output_type": "stream",
     "text": [
      "/home/jupyterlab/conda/envs/python/lib/python3.7/site-packages/keras/backend.py:5535: UserWarning: \"`categorical_crossentropy` received `from_logits=True`, but the `output` argument was produced by a Softmax activation and thus does not represent logits. Was this intended?\n",
      "  output, from_logits, \"Softmax\", \"categorical_crossentropy\"\n"
     ]
    },
    {
     "name": "stdout",
     "output_type": "stream",
     "text": [
      "120/120 [==============================] - 1s 5ms/step - loss: 7.8876 - accuracy: 0.3683 - val_loss: 1.9293 - val_accuracy: 0.5267\n",
      "Epoch 2/30\n",
      "120/120 [==============================] - 0s 3ms/step - loss: 0.5513 - accuracy: 0.7300 - val_loss: 0.3372 - val_accuracy: 0.8200\n",
      "Epoch 3/30\n",
      "120/120 [==============================] - 0s 3ms/step - loss: 0.2763 - accuracy: 0.8733 - val_loss: 0.2494 - val_accuracy: 0.9000\n",
      "Epoch 4/30\n",
      "120/120 [==============================] - 0s 3ms/step - loss: 0.2150 - accuracy: 0.9233 - val_loss: 0.2034 - val_accuracy: 0.9200\n",
      "Epoch 5/30\n",
      "120/120 [==============================] - 0s 4ms/step - loss: 0.1753 - accuracy: 0.9500 - val_loss: 0.1653 - val_accuracy: 0.9600\n",
      "Epoch 6/30\n",
      "120/120 [==============================] - 0s 3ms/step - loss: 0.1464 - accuracy: 0.9717 - val_loss: 0.1411 - val_accuracy: 0.9733\n",
      "Epoch 7/30\n",
      "120/120 [==============================] - 0s 3ms/step - loss: 0.1223 - accuracy: 0.9817 - val_loss: 0.1169 - val_accuracy: 0.9867\n",
      "Epoch 8/30\n",
      "120/120 [==============================] - 0s 3ms/step - loss: 0.1024 - accuracy: 0.9850 - val_loss: 0.0970 - val_accuracy: 0.9933\n",
      "Epoch 9/30\n",
      "120/120 [==============================] - 1s 6ms/step - loss: 0.0851 - accuracy: 0.9900 - val_loss: 0.0806 - val_accuracy: 0.9933\n",
      "Epoch 10/30\n",
      "120/120 [==============================] - 1s 6ms/step - loss: 0.0716 - accuracy: 0.9900 - val_loss: 0.0682 - val_accuracy: 0.9933\n",
      "Epoch 11/30\n",
      "120/120 [==============================] - 1s 6ms/step - loss: 0.0598 - accuracy: 0.9933 - val_loss: 0.0558 - val_accuracy: 0.9933\n",
      "Epoch 12/30\n",
      "120/120 [==============================] - 0s 4ms/step - loss: 0.0487 - accuracy: 0.9933 - val_loss: 0.0466 - val_accuracy: 0.9933\n",
      "Epoch 13/30\n",
      "120/120 [==============================] - 0s 3ms/step - loss: 0.0404 - accuracy: 0.9950 - val_loss: 0.0385 - val_accuracy: 1.0000\n",
      "Epoch 14/30\n",
      "120/120 [==============================] - 0s 3ms/step - loss: 0.0325 - accuracy: 0.9967 - val_loss: 0.0317 - val_accuracy: 1.0000\n",
      "Epoch 15/30\n",
      "120/120 [==============================] - 0s 3ms/step - loss: 0.0262 - accuracy: 0.9967 - val_loss: 0.0256 - val_accuracy: 1.0000\n",
      "Epoch 16/30\n",
      "120/120 [==============================] - 0s 4ms/step - loss: 0.0200 - accuracy: 0.9983 - val_loss: 0.0213 - val_accuracy: 1.0000\n",
      "Epoch 17/30\n",
      "120/120 [==============================] - 0s 3ms/step - loss: 0.0151 - accuracy: 0.9983 - val_loss: 0.0156 - val_accuracy: 1.0000\n",
      "Epoch 18/30\n",
      "120/120 [==============================] - 0s 3ms/step - loss: 0.0121 - accuracy: 0.9967 - val_loss: 0.0122 - val_accuracy: 1.0000\n",
      "Epoch 19/30\n",
      "120/120 [==============================] - 0s 3ms/step - loss: 0.0103 - accuracy: 0.9983 - val_loss: 0.0109 - val_accuracy: 1.0000\n",
      "Epoch 20/30\n",
      "120/120 [==============================] - 0s 3ms/step - loss: 0.0086 - accuracy: 1.0000 - val_loss: 0.0087 - val_accuracy: 1.0000\n",
      "Epoch 21/30\n",
      "120/120 [==============================] - 0s 3ms/step - loss: 0.0074 - accuracy: 1.0000 - val_loss: 0.0076 - val_accuracy: 1.0000\n",
      "Epoch 22/30\n",
      "120/120 [==============================] - 0s 3ms/step - loss: 0.0066 - accuracy: 1.0000 - val_loss: 0.0065 - val_accuracy: 1.0000\n",
      "Epoch 23/30\n",
      "120/120 [==============================] - 0s 3ms/step - loss: 0.0059 - accuracy: 1.0000 - val_loss: 0.0056 - val_accuracy: 1.0000\n",
      "Epoch 24/30\n",
      "120/120 [==============================] - 0s 3ms/step - loss: 0.0051 - accuracy: 1.0000 - val_loss: 0.0048 - val_accuracy: 1.0000\n",
      "Epoch 25/30\n",
      "120/120 [==============================] - 0s 3ms/step - loss: 0.0048 - accuracy: 1.0000 - val_loss: 0.0048 - val_accuracy: 1.0000\n",
      "Epoch 26/30\n",
      "120/120 [==============================] - 0s 3ms/step - loss: 0.0042 - accuracy: 1.0000 - val_loss: 0.0043 - val_accuracy: 1.0000\n",
      "Epoch 27/30\n",
      "120/120 [==============================] - 0s 3ms/step - loss: 0.0038 - accuracy: 1.0000 - val_loss: 0.0037 - val_accuracy: 1.0000\n",
      "Epoch 28/30\n",
      "120/120 [==============================] - 0s 3ms/step - loss: 0.0035 - accuracy: 1.0000 - val_loss: 0.0034 - val_accuracy: 1.0000\n",
      "Epoch 29/30\n",
      "120/120 [==============================] - 0s 3ms/step - loss: 0.0032 - accuracy: 1.0000 - val_loss: 0.0033 - val_accuracy: 1.0000\n",
      "Epoch 30/30\n",
      "120/120 [==============================] - 0s 3ms/step - loss: 0.0030 - accuracy: 1.0000 - val_loss: 0.0031 - val_accuracy: 1.0000\n"
     ]
    }
   ],
   "source": [
    "model.compile(loss=loss_function_used, optimizer=tf.keras.optimizers.Adam(lr=0.001), metrics=['accuracy'])\n",
    "history = model.fit(X_training, Targets_training, epochs=30, batch_size=5, verbose=1, validation_split=0.2)"
   ]
  },
  {
   "cell_type": "markdown",
   "metadata": {},
   "source": [
    "We will now use the trained model to make predictions on an unseen test dataset.\n"
   ]
  },
  {
   "cell_type": "code",
   "execution_count": 51,
   "metadata": {
    "tags": []
   },
   "outputs": [
    {
     "name": "stdout",
     "output_type": "stream",
     "text": [
      "8/8 [==============================] - 0s 3ms/step - loss: 0.0065 - accuracy: 1.0000\n",
      "Test results - Loss: 0.006497749127447605 - Accuracy: 100.0%\n"
     ]
    }
   ],
   "source": [
    "test_results = model.evaluate(X_testing, Targets_testing, verbose=1)\n",
    "print(f'Test results - Loss: {test_results[0]} - Accuracy: {test_results[1]*100}%')"
   ]
  },
  {
   "cell_type": "code",
   "execution_count": 52,
   "metadata": {
    "tags": []
   },
   "outputs": [],
   "source": [
    "class Onehot2Int(object):\n",
    "\n",
    "    def __init__(self, model):\n",
    "        self.model = model\n",
    "\n",
    "    def predict(self, X):\n",
    "        y_pred = self.model.predict(X)\n",
    "        return np.argmax(y_pred, axis=1)\n",
    "\n",
    "# fit keras_model\n",
    "keras_model_no_ohe = Onehot2Int(model)"
   ]
  },
  {
   "cell_type": "code",
   "execution_count": 53,
   "metadata": {
    "tags": []
   },
   "outputs": [
    {
     "name": "stdout",
     "output_type": "stream",
     "text": [
      "11250/11250 [==============================] - 15s 1ms/step\n"
     ]
    },
    {
     "data": {
      "image/png": "[encoded data removed]",
      "text/plain": [
       "<Figure size 600x600 with 1 Axes>"
      ]
     },
     "metadata": {},
     "output_type": "display_data"
    }
   ],
   "source": [
    "# Plot decision boundary\n",
    "plot_decision_regions(X_testing, np.argmax(Targets_testing, axis=1), clf=keras_model_no_ohe, legend=3)\n",
    "plt.show()"
   ]
  },
  {
   "cell_type": "markdown",
   "metadata": {},
   "source": [
    "## Example: MNIST Hand-Written Digits\n"
   ]
  },
  {
   "cell_type": "markdown",
   "metadata": {},
   "source": [
    "Let us first load our MNIST hand-written dataset using the Keras library.\n"
   ]
  },
  {
   "cell_type": "code",
   "execution_count": 54,
   "metadata": {
    "tags": []
   },
   "outputs": [],
   "source": [
    "(X_train, y_train), (X_test, y_test) = mnist.load_data() "
   ]
  },
  {
   "cell_type": "code",
   "execution_count": 55,
   "metadata": {
    "tags": []
   },
   "outputs": [
    {
     "name": "stdout",
     "output_type": "stream",
     "text": [
      "X_train shape (60000, 28, 28)\n",
      "y_train shape (60000,)\n",
      "X_test shape (10000, 28, 28)\n",
      "y_test shape (10000,)\n"
     ]
    }
   ],
   "source": [
    "print(\"X_train shape\", X_train.shape)\n",
    "print(\"y_train shape\", y_train.shape)\n",
    "print(\"X_test shape\", X_test.shape)\n",
    "print(\"y_test shape\", y_test.shape)"
   ]
  },
  {
   "cell_type": "markdown",
   "metadata": {},
   "source": [
    "Now we can plot some sample digits from the training set.\n"
   ]
  },
  {
   "cell_type": "code",
   "execution_count": 56,
   "metadata": {
    "tags": []
   },
   "outputs": [
    {
     "data": {
      "image/png": "[encoded data removed]",
      "text/plain": [
       "<Figure size 600x600 with 4 Axes>"
      ]
     },
     "metadata": {},
     "output_type": "display_data"
    }
   ],
   "source": [
    "plt.rcParams['figure.figsize'] = (6,6) \n",
    "\n",
    "for i in range(4):\n",
    "    plt.subplot(2,2,i+1)\n",
    "    num = random.randint(0, len(X_train))\n",
    "    plt.imshow(X_train[num], cmap='gray', interpolation='none')\n",
    "    plt.title(\"class {}\".format(y_train[num]))\n",
    "    \n",
    "plt.tight_layout()"
   ]
  },
  {
   "cell_type": "markdown",
   "metadata": {},
   "source": [
    "Each image is on a grayscale (that is, only 1 channel) and is of size 28x28. We need to flatten each image by reshaping our matrix from 28x28 to a 784-length vector.\n"
   ]
  },
  {
   "cell_type": "code",
   "execution_count": 57,
   "metadata": {
    "tags": []
   },
   "outputs": [
    {
     "name": "stdout",
     "output_type": "stream",
     "text": [
      "(60000, 784)\n",
      "(10000, 784)\n"
     ]
    }
   ],
   "source": [
    "X_train = X_train.reshape(X_train.shape[0], X_train.shape[1]* X_train.shape[2])\n",
    "X_test = X_test.reshape(X_test.shape[0], X_test.shape[1] * X_test.shape[2])\n",
    "\n",
    "print(X_train.shape)\n",
    "print(X_test.shape)"
   ]
  },
  {
   "cell_type": "markdown",
   "metadata": {},
   "source": [
    "Next, we need to change integers to 32-bit floating point numbers. We would also need to normalize our input to be in the range [0, 1], rather than [0-255].\n"
   ]
  },
  {
   "cell_type": "code",
   "execution_count": 58,
   "metadata": {
    "tags": []
   },
   "outputs": [],
   "source": [
    "X_train = X_train.astype('float32')\n",
    "X_test = X_test.astype('float32')\n",
    "\n",
    "X_train /= 255\n",
    "X_test /= 255"
   ]
  },
  {
   "cell_type": "markdown",
   "metadata": {},
   "source": [
    "Our target variable, `y`, is an array of the following form:\n"
   ]
  },
  {
   "cell_type": "code",
   "execution_count": 59,
   "metadata": {
    "tags": []
   },
   "outputs": [
    {
     "data": {
      "text/plain": [
       "array([5, 0, 4, ..., 5, 6, 8], dtype=uint8)"
      ]
     },
     "execution_count": 59,
     "metadata": {},
     "output_type": "execute_result"
    }
   ],
   "source": [
    "y_train"
   ]
  },
  {
   "cell_type": "markdown",
   "metadata": {},
   "source": [
    "The categorical cross-entropy function expects that we provide one-hot encoded representations of the labels and predictions. Let us one-hot encode our target, `y`, using the `OneHotEncoder()` function from sklearn.\n"
   ]
  },
  {
   "cell_type": "code",
   "execution_count": 60,
   "metadata": {
    "tags": []
   },
   "outputs": [
    {
     "name": "stdout",
     "output_type": "stream",
     "text": [
      "[array([0, 1, 2, 3, 4, 5, 6, 7, 8, 9], dtype=uint8)]\n"
     ]
    }
   ],
   "source": [
    "enc = OneHotEncoder(sparse=False)\n",
    "enc.fit(y_train.reshape(-1, 1))\n",
    "print(enc.categories_)"
   ]
  },
  {
   "cell_type": "code",
   "execution_count": 61,
   "metadata": {
    "tags": []
   },
   "outputs": [],
   "source": [
    "y_train_enc = enc.transform(y_train.reshape(-1,1))\n",
    "y_test_enc = enc.transform(y_test.reshape(-1,1))"
   ]
  },
  {
   "cell_type": "markdown",
   "metadata": {},
   "source": [
    "In this multi-class classification task, we want to interpret our logistic regression model's results as a probability distribution; that is the model should output a vector that represents the probability of the given image belonging to each of the 10 classes. \n",
    "\n",
    "All elements in the vector should fall into the \\[0,1] range and sum up to 1. In order to set up our classification problem this way, we can feed the model output to a softmax function to produce probabilities.\n"
   ]
  },
  {
   "cell_type": "markdown",
   "metadata": {},
   "source": [
    "For training our multi-class logistic classifier, we need a loss function. Categorical cross-entropy is a loss function widely used with softmax. We need to minimize this loss function in order to determine an optimal set of parameters.\n"
   ]
  },
  {
   "cell_type": "markdown",
   "metadata": {},
   "source": [
    "We will build a simple CNN model with two hidden layers, that uses softmax as the activation function, and categorical cross-entropy as the loss function. Let's define the architecture of our model:\n"
   ]
  },
  {
   "cell_type": "code",
   "execution_count": 62,
   "metadata": {
    "tags": []
   },
   "outputs": [],
   "source": [
    "feature_vector_shape = X_train.shape[1]\n",
    "input_shape = (feature_vector_shape,)\n",
    "num_classes = 10\n",
    "loss_function_used=CategoricalCrossentropy(from_logits=True)\n",
    "model = Sequential()\n",
    "model.add(Dense(12, input_shape=input_shape, activation='relu', kernel_initializer='he_uniform'))\n",
    "model.add(Dense(8, activation='relu', kernel_initializer='he_uniform'))\n",
    "model.add(Dense(num_classes, activation='softmax'))"
   ]
  },
  {
   "cell_type": "code",
   "execution_count": 63,
   "metadata": {
    "tags": []
   },
   "outputs": [
    {
     "name": "stderr",
     "output_type": "stream",
     "text": [
      "WARNING:absl:`lr` is deprecated, please use `learning_rate` instead, or use the legacy optimizer, e.g.,tf.keras.optimizers.legacy.Adam.\n"
     ]
    },
    {
     "name": "stdout",
     "output_type": "stream",
     "text": [
      "Epoch 1/25\n"
     ]
    },
    {
     "name": "stderr",
     "output_type": "stream",
     "text": [
      "/home/jupyterlab/conda/envs/python/lib/python3.7/site-packages/keras/backend.py:5535: UserWarning: \"`categorical_crossentropy` received `from_logits=True`, but the `output` argument was produced by a Softmax activation and thus does not represent logits. Was this intended?\n",
      "  output, from_logits, \"Softmax\", \"categorical_crossentropy\"\n"
     ]
    },
    {
     "name": "stdout",
     "output_type": "stream",
     "text": [
      "9600/9600 [==============================] - 34s 3ms/step - loss: 0.4628 - accuracy: 0.8626 - val_loss: 0.3121 - val_accuracy: 0.9066\n",
      "Epoch 2/25\n",
      "9600/9600 [==============================] - 32s 3ms/step - loss: 0.2789 - accuracy: 0.9194 - val_loss: 0.2471 - val_accuracy: 0.9287\n",
      "Epoch 3/25\n",
      "9600/9600 [==============================] - 33s 3ms/step - loss: 0.2456 - accuracy: 0.9287 - val_loss: 0.2239 - val_accuracy: 0.9348\n",
      "Epoch 4/25\n",
      "9600/9600 [==============================] - 31s 3ms/step - loss: 0.2286 - accuracy: 0.9340 - val_loss: 0.2252 - val_accuracy: 0.9352\n",
      "Epoch 5/25\n",
      "9600/9600 [==============================] - 33s 3ms/step - loss: 0.2179 - accuracy: 0.9365 - val_loss: 0.2150 - val_accuracy: 0.9402\n",
      "Epoch 6/25\n",
      "9600/9600 [==============================] - 31s 3ms/step - loss: 0.2104 - accuracy: 0.9385 - val_loss: 0.2409 - val_accuracy: 0.9305\n",
      "Epoch 7/25\n",
      "9600/9600 [==============================] - 32s 3ms/step - loss: 0.2021 - accuracy: 0.9395 - val_loss: 0.2080 - val_accuracy: 0.9396\n",
      "Epoch 8/25\n",
      "9600/9600 [==============================] - 31s 3ms/step - loss: 0.1962 - accuracy: 0.9433 - val_loss: 0.2311 - val_accuracy: 0.9337\n",
      "Epoch 9/25\n",
      "9600/9600 [==============================] - 32s 3ms/step - loss: 0.1932 - accuracy: 0.9425 - val_loss: 0.2202 - val_accuracy: 0.9355\n",
      "Epoch 10/25\n",
      "9600/9600 [==============================] - 31s 3ms/step - loss: 0.1889 - accuracy: 0.9439 - val_loss: 0.2096 - val_accuracy: 0.9373\n",
      "Epoch 11/25\n",
      "9600/9600 [==============================] - 32s 3ms/step - loss: 0.1839 - accuracy: 0.9457 - val_loss: 0.2192 - val_accuracy: 0.9353\n",
      "Epoch 12/25\n",
      "9600/9600 [==============================] - 31s 3ms/step - loss: 0.1827 - accuracy: 0.9465 - val_loss: 0.2155 - val_accuracy: 0.9354\n",
      "Epoch 13/25\n",
      "9600/9600 [==============================] - 33s 3ms/step - loss: 0.1780 - accuracy: 0.9474 - val_loss: 0.2075 - val_accuracy: 0.9406\n",
      "Epoch 14/25\n",
      "9600/9600 [==============================] - 31s 3ms/step - loss: 0.1749 - accuracy: 0.9476 - val_loss: 0.2187 - val_accuracy: 0.9379\n",
      "Epoch 15/25\n",
      "9600/9600 [==============================] - 33s 3ms/step - loss: 0.1724 - accuracy: 0.9491 - val_loss: 0.2050 - val_accuracy: 0.9412\n",
      "Epoch 16/25\n",
      "9600/9600 [==============================] - 32s 3ms/step - loss: 0.1698 - accuracy: 0.9497 - val_loss: 0.2160 - val_accuracy: 0.9358\n",
      "Epoch 17/25\n",
      "9600/9600 [==============================] - 33s 3ms/step - loss: 0.1687 - accuracy: 0.9501 - val_loss: 0.2184 - val_accuracy: 0.9374\n",
      "Epoch 18/25\n",
      "9600/9600 [==============================] - 31s 3ms/step - loss: 0.1677 - accuracy: 0.9503 - val_loss: 0.2157 - val_accuracy: 0.9372\n",
      "Epoch 19/25\n",
      "9600/9600 [==============================] - 32s 3ms/step - loss: 0.1641 - accuracy: 0.9514 - val_loss: 0.2297 - val_accuracy: 0.9352\n",
      "Epoch 20/25\n",
      "9600/9600 [==============================] - 31s 3ms/step - loss: 0.1637 - accuracy: 0.9520 - val_loss: 0.2168 - val_accuracy: 0.9384\n",
      "Epoch 21/25\n",
      "9600/9600 [==============================] - 33s 3ms/step - loss: 0.1616 - accuracy: 0.9511 - val_loss: 0.2154 - val_accuracy: 0.9389\n",
      "Epoch 22/25\n",
      "9600/9600 [==============================] - 31s 3ms/step - loss: 0.1606 - accuracy: 0.9517 - val_loss: 0.2125 - val_accuracy: 0.9398\n",
      "Epoch 23/25\n",
      "9600/9600 [==============================] - 32s 3ms/step - loss: 0.1579 - accuracy: 0.9537 - val_loss: 0.2194 - val_accuracy: 0.9386\n",
      "Epoch 24/25\n",
      "9600/9600 [==============================] - 31s 3ms/step - loss: 0.1575 - accuracy: 0.9521 - val_loss: 0.2238 - val_accuracy: 0.9352\n",
      "Epoch 25/25\n",
      "9600/9600 [==============================] - 33s 3ms/step - loss: 0.1548 - accuracy: 0.9528 - val_loss: 0.2188 - val_accuracy: 0.9396\n"
     ]
    }
   ],
   "source": [
    "model.compile(loss=loss_function_used, optimizer=tf.keras.optimizers.Adam(lr=0.001), metrics=['accuracy'])\n",
    "history = model.fit(X_train, y_train_enc, epochs=25, batch_size=5, verbose=1, validation_split=0.2)\n"
   ]
  },
  {
   "cell_type": "code",
   "execution_count": 64,
   "metadata": {
    "tags": []
   },
   "outputs": [
    {
     "name": "stdout",
     "output_type": "stream",
     "text": [
      "313/313 [==============================] - 1s 2ms/step - loss: 0.2233 - accuracy: 0.9373\n",
      "Test results - Loss: 0.2233024388551712 - Accuracy: 93.73000264167786%\n"
     ]
    }
   ],
   "source": [
    "test_results = model.evaluate(X_test, y_test_enc, verbose=1)\n",
    "print(f'Test results - Loss: {test_results[0]} - Accuracy: {test_results[1]*100}%')"
   ]
  },
  {
   "cell_type": "markdown",
   "metadata": {},
   "source": [
    "## Example: Single-Digit House Number Recognition\n"
   ]
  },
  {
   "cell_type": "markdown",
   "metadata": {},
   "source": [
    "Recognizing multi-digit text from photographs is a hard problem. In this example, we deal with a simpler sub-problem that involves using a convolutional neural network with the categorical cross-entropy loss function to build a classifier that identifies single-digit numbers from custom images.\n"
   ]
  },
  {
   "cell_type": "markdown",
   "metadata": {},
   "source": [
    "First, let's load in a custom image using a URL. \\[Image from [comforthouse](https://www.comforthouse.com/floating-1-number-sign.html?utm_medium=Exinfluencer&utm_source=Exinfluencer&utm_content=000026UJ&utm_term=10006555&utm_id=NA-SkillsNetwork-Channel-SkillsNetworkCoursesIBMDeveloperSkillsNetworkML311Coursera35714171-2022-01-01).]\n"
   ]
  },
  {
   "cell_type": "code",
   "execution_count": 65,
   "metadata": {},
   "outputs": [
    {
     "data": {
      "image/png": "[encoded data removed]",
      "text/plain": [
       "<PIL.Image.Image image mode=RGB size=225x225 at 0x7FC6AC4DF890>"
      ]
     },
     "execution_count": 65,
     "metadata": {},
     "output_type": "execute_result"
    }
   ],
   "source": [
    "URL = 'https://cf-courses-data.s3.us.cloud-object-storage.appdomain.cloud/IBMDeveloperSkillsNetwork-ML311-Coursera/images/house_number_5.jpeg'\n",
    "image = Image.open(urlopen(URL)).convert('RGB')\n",
    "image"
   ]
  },
  {
   "cell_type": "markdown",
   "metadata": {},
   "source": [
    "Let us define a CNN architecture that is similar to one used for MNIST hand-written digit classification. We use a softmax as the activation function and categorical cross-entropy as the loss function as this is a multi-class classification problem.\n"
   ]
  },
  {
   "cell_type": "code",
   "execution_count": 66,
   "metadata": {},
   "outputs": [
    {
     "name": "stderr",
     "output_type": "stream",
     "text": [
      "WARNING:absl:`lr` is deprecated, please use `learning_rate` instead, or use the legacy optimizer, e.g.,tf.keras.optimizers.legacy.Adam.\n"
     ]
    },
    {
     "name": "stdout",
     "output_type": "stream",
     "text": [
      "Epoch 1/25\n",
      "9600/9600 [==============================] - 33s 3ms/step - loss: 0.4590 - accuracy: 0.8608 - val_loss: 0.2925 - val_accuracy: 0.9171\n",
      "Epoch 2/25\n",
      "9600/9600 [==============================] - 32s 3ms/step - loss: 0.2791 - accuracy: 0.9191 - val_loss: 0.2342 - val_accuracy: 0.9348\n",
      "Epoch 3/25\n",
      "9600/9600 [==============================] - 31s 3ms/step - loss: 0.2407 - accuracy: 0.9301 - val_loss: 0.2303 - val_accuracy: 0.9360\n",
      "Epoch 4/25\n",
      "9600/9600 [==============================] - 33s 3ms/step - loss: 0.2206 - accuracy: 0.9351 - val_loss: 0.2111 - val_accuracy: 0.9404\n",
      "Epoch 5/25\n",
      "9600/9600 [==============================] - 31s 3ms/step - loss: 0.2063 - accuracy: 0.9396 - val_loss: 0.2460 - val_accuracy: 0.9306\n",
      "Epoch 6/25\n",
      "9600/9600 [==============================] - 32s 3ms/step - loss: 0.1965 - accuracy: 0.9419 - val_loss: 0.2039 - val_accuracy: 0.9431\n",
      "Epoch 7/25\n",
      "9600/9600 [==============================] - 31s 3ms/step - loss: 0.1877 - accuracy: 0.9440 - val_loss: 0.1959 - val_accuracy: 0.9444\n",
      "Epoch 8/25\n",
      "9600/9600 [==============================] - 32s 3ms/step - loss: 0.1816 - accuracy: 0.9461 - val_loss: 0.2113 - val_accuracy: 0.9443\n",
      "Epoch 9/25\n",
      "9600/9600 [==============================] - 31s 3ms/step - loss: 0.1776 - accuracy: 0.9472 - val_loss: 0.1969 - val_accuracy: 0.9438\n",
      "Epoch 10/25\n",
      "9600/9600 [==============================] - 32s 3ms/step - loss: 0.1716 - accuracy: 0.9498 - val_loss: 0.2041 - val_accuracy: 0.9427\n",
      "Epoch 11/25\n",
      "9600/9600 [==============================] - 31s 3ms/step - loss: 0.1684 - accuracy: 0.9506 - val_loss: 0.1995 - val_accuracy: 0.9438\n",
      "Epoch 12/25\n",
      "9600/9600 [==============================] - 32s 3ms/step - loss: 0.1644 - accuracy: 0.9510 - val_loss: 0.1970 - val_accuracy: 0.9463\n",
      "Epoch 13/25\n",
      "9600/9600 [==============================] - 31s 3ms/step - loss: 0.1625 - accuracy: 0.9522 - val_loss: 0.1922 - val_accuracy: 0.9468\n",
      "Epoch 14/25\n",
      "9600/9600 [==============================] - 32s 3ms/step - loss: 0.1579 - accuracy: 0.9526 - val_loss: 0.2037 - val_accuracy: 0.9433\n",
      "Epoch 15/25\n",
      "9600/9600 [==============================] - 31s 3ms/step - loss: 0.1573 - accuracy: 0.9529 - val_loss: 0.2066 - val_accuracy: 0.9435\n",
      "Epoch 16/25\n",
      "9600/9600 [==============================] - 32s 3ms/step - loss: 0.1551 - accuracy: 0.9537 - val_loss: 0.1961 - val_accuracy: 0.9452\n",
      "Epoch 17/25\n",
      "9600/9600 [==============================] - 31s 3ms/step - loss: 0.1521 - accuracy: 0.9549 - val_loss: 0.2034 - val_accuracy: 0.9438\n",
      "Epoch 18/25\n",
      "9600/9600 [==============================] - 30s 3ms/step - loss: 0.1513 - accuracy: 0.9557 - val_loss: 0.2002 - val_accuracy: 0.9449\n",
      "Epoch 19/25\n",
      "9600/9600 [==============================] - 32s 3ms/step - loss: 0.1492 - accuracy: 0.9553 - val_loss: 0.2066 - val_accuracy: 0.9429\n",
      "Epoch 20/25\n",
      "9600/9600 [==============================] - 31s 3ms/step - loss: 0.1477 - accuracy: 0.9554 - val_loss: 0.1927 - val_accuracy: 0.9467\n",
      "Epoch 21/25\n",
      "9600/9600 [==============================] - 33s 3ms/step - loss: 0.1457 - accuracy: 0.9555 - val_loss: 0.2014 - val_accuracy: 0.9458\n",
      "Epoch 22/25\n",
      "9600/9600 [==============================] - 31s 3ms/step - loss: 0.1441 - accuracy: 0.9575 - val_loss: 0.1959 - val_accuracy: 0.9464\n",
      "Epoch 23/25\n",
      "9600/9600 [==============================] - 32s 3ms/step - loss: 0.1444 - accuracy: 0.9569 - val_loss: 0.1999 - val_accuracy: 0.9463\n",
      "Epoch 24/25\n",
      "9600/9600 [==============================] - 31s 3ms/step - loss: 0.1408 - accuracy: 0.9569 - val_loss: 0.2163 - val_accuracy: 0.9402\n",
      "Epoch 25/25\n",
      "9600/9600 [==============================] - 32s 3ms/step - loss: 0.1400 - accuracy: 0.9579 - val_loss: 0.2072 - val_accuracy: 0.9440\n"
     ]
    }
   ],
   "source": [
    "feature_vector_shape,input_shape = 784,784\n",
    "num_classes = 10\n",
    "loss_function_used = CategoricalCrossentropy(from_logits=True)\n",
    "model = Sequential()\n",
    "model.add(Dense(12, input_shape=(input_shape,), activation='relu', kernel_initializer='he_uniform'))\n",
    "model.add(Dense(8, activation='relu', kernel_initializer='he_uniform'))\n",
    "model.add(Dense(num_classes, activation='softmax'))\n",
    "\n",
    "model.compile(loss=loss_function_used, optimizer=tf.keras.optimizers.Adam(lr=0.001), metrics=['accuracy'])\n",
    "history = model.fit(X_train, y_train_enc, epochs=25, batch_size=5, verbose=1, validation_split=0.2)"
   ]
  },
  {
   "cell_type": "markdown",
   "metadata": {},
   "source": [
    "We must now pre-process our raw input images to be grayscale and 28x28 in size.\n"
   ]
  },
  {
   "cell_type": "code",
   "execution_count": 67,
   "metadata": {},
   "outputs": [
    {
     "data": {
      "image/png": "[encoded data removed]",
      "text/plain": [
       "<PIL.Image.Image image mode=L size=28x28 at 0x7FC6880249D0>"
      ]
     },
     "execution_count": 67,
     "metadata": {},
     "output_type": "execute_result"
    }
   ],
   "source": [
    "img_rows, img_cols = 28, 28\n",
    "img = Image.fromarray(np.uint8(image)).convert('L')\n",
    "img_gray = img.resize((img_rows, img_cols), Image.ANTIALIAS)\n",
    "img_gray"
   ]
  },
  {
   "cell_type": "markdown",
   "metadata": {},
   "source": [
    "We will now convert the image to an array, and reshape it such that it has a dimension of (1, 784).\n"
   ]
  },
  {
   "cell_type": "code",
   "execution_count": 68,
   "metadata": {},
   "outputs": [],
   "source": [
    "arr = np.array(img_gray)\n",
    "arr = arr.reshape((img_cols*img_rows))\n",
    "arr = np.expand_dims(arr, axis=0)"
   ]
  },
  {
   "cell_type": "markdown",
   "metadata": {},
   "source": [
    "Finally, we will feed the array as an input to our model, and use the argmax function to determine the most likely digit label.\n"
   ]
  },
  {
   "cell_type": "code",
   "execution_count": 69,
   "metadata": {},
   "outputs": [
    {
     "name": "stdout",
     "output_type": "stream",
     "text": [
      "1/1 [==============================] - 0s 74ms/step\n"
     ]
    },
    {
     "data": {
      "text/plain": [
       "2"
      ]
     },
     "execution_count": 69,
     "metadata": {},
     "output_type": "execute_result"
    }
   ],
   "source": [
    "prediction = model.predict(arr)\n",
    "np.argmax(prediction)"
   ]
  },
  {
   "cell_type": "markdown",
   "metadata": {},
   "source": [
    "We got it right! You are free to experiment with different custom images by simply changing the URL.\n"
   ]
  },
  {
   "cell_type": "markdown",
   "metadata": {},
   "source": [
    "# Exercises\n"
   ]
  },
  {
   "cell_type": "markdown",
   "metadata": {},
   "source": [
    "For these exercises, we will be using the Fashion-MNIST dataset. It consists of 60,000 28x28 grayscale training images and 10,000 test images for 10 different categories, listed below:\n"
   ]
  },
  {
   "cell_type": "markdown",
   "metadata": {},
   "source": [
    "0.  T-shirt\n",
    "1.  Trouser\n",
    "2.  Pullover\n",
    "3.  Dress\n",
    "4.  Coat\n",
    "5.  Sandal\n",
    "6.  Shirt\n",
    "7.  Sneaker\n",
    "8.  Bag\n",
    "9.  Ankle boot\n"
   ]
  },
  {
   "cell_type": "markdown",
   "metadata": {},
   "source": [
    "### Exercise 1 - Loading and plotting the images\n"
   ]
  },
  {
   "cell_type": "markdown",
   "metadata": {},
   "source": [
    "Similar to the MNIST hand-written digits dataset, Fashion-MNIST is available for loading through Keras. Load the dataset using Keras in a similar manner. Plot some sample images from the training set.\n"
   ]
  },
  {
   "cell_type": "code",
   "execution_count": 70,
   "metadata": {},
   "outputs": [
    {
     "name": "stdout",
     "output_type": "stream",
     "text": [
      "Downloading data from https://storage.googleapis.com/tensorflow/tf-keras-datasets/train-labels-idx1-ubyte.gz\n",
      "29515/29515 [==============================] - 0s 0us/step\n",
      "Downloading data from https://storage.googleapis.com/tensorflow/tf-keras-datasets/train-images-idx3-ubyte.gz\n",
      "26421880/26421880 [==============================] - 0s 0us/step\n",
      "Downloading data from https://storage.googleapis.com/tensorflow/tf-keras-datasets/t10k-labels-idx1-ubyte.gz\n",
      "5148/5148 [==============================] - 0s 0us/step\n",
      "Downloading data from https://storage.googleapis.com/tensorflow/tf-keras-datasets/t10k-images-idx3-ubyte.gz\n",
      "4422102/4422102 [==============================] - 0s 0us/step\n"
     ]
    },
    {
     "data": {
      "image/png": "[encoded data removed]",
      "text/plain": [
       "<Figure size 600x600 with 4 Axes>"
      ]
     },
     "metadata": {},
     "output_type": "display_data"
    }
   ],
   "source": [
    "# Enter your solution here\n",
    "(X_train, y_train), (X_test, y_test) = fashion_mnist.load_data()\n",
    "\n",
    "\n",
    "plt.rcParams['figure.figsize'] = (6,6) \n",
    "\n",
    "for i in range(4):\n",
    "    plt.subplot(2,2,i+1)\n",
    "    num = random.randint(0, len(X_train))\n",
    "    plt.imshow(X_train[num], cmap='gray', interpolation='none')\n",
    "    plt.title(\"class {}\".format(y_train[num]))\n",
    "    \n",
    "plt.tight_layout()"
   ]
  },
  {
   "cell_type": "markdown",
   "metadata": {},
   "source": [
    "### Exercise 2 - Preparing the data\n"
   ]
  },
  {
   "cell_type": "markdown",
   "metadata": {},
   "source": [
    "Convert all grayscale images of size 28x28 to a 784-length vector. Change integers to 32-bit floating point numbers and normalize the input to be in the range \\[0, 1], rather than \\[0-255].\n"
   ]
  },
  {
   "cell_type": "code",
   "execution_count": 71,
   "metadata": {},
   "outputs": [
    {
     "name": "stdout",
     "output_type": "stream",
     "text": [
      "(60000, 784)\n",
      "(10000, 784)\n"
     ]
    }
   ],
   "source": [
    "# Enter your solution here\n",
    "X_train = X_train.reshape(X_train.shape[0], X_train.shape[1]* X_train.shape[2])\n",
    "X_test = X_test.reshape(X_test.shape[0], X_test.shape[1] * X_test.shape[2])\n",
    "\n",
    "print(X_train.shape)\n",
    "print(X_test.shape)\n",
    "\n",
    "X_train = X_train.astype('float32')\n",
    "X_test = X_test.astype('float32')\n",
    "\n",
    "X_train /= 255\n",
    "X_test /= 255\n"
   ]
  },
  {
   "cell_type": "markdown",
   "metadata": {},
   "source": [
    "### Exercise 3 - One-hot encoding\n"
   ]
  },
  {
   "cell_type": "markdown",
   "metadata": {},
   "source": [
    "Create one-hot encoded representations of the target variable using the `OneHotEncoder()` function from sklearn.\n"
   ]
  },
  {
   "cell_type": "code",
   "execution_count": 72,
   "metadata": {},
   "outputs": [
    {
     "name": "stdout",
     "output_type": "stream",
     "text": [
      "[array([0, 1, 2, 3, 4, 5, 6, 7, 8, 9], dtype=uint8)]\n"
     ]
    }
   ],
   "source": [
    "# Enter your solution here\n",
    "enc = OneHotEncoder(sparse=False)\n",
    "enc.fit(y_train.reshape(-1, 1))\n",
    "print(enc.categories_)\n",
    "y_train_enc = enc.transform(y_train.reshape(-1,1))\n",
    "y_test_enc = enc.transform(y_test.reshape(-1,1))\n"
   ]
  },
  {
   "cell_type": "markdown",
   "metadata": {},
   "source": [
    "### Exercise 4 - Build model architecture\n"
   ]
  },
  {
   "cell_type": "markdown",
   "metadata": {},
   "source": [
    "Build a CNN model with 2 hidden layers, that uses softmax as the activation function, and categorical cross-entropy as the loss function.\n"
   ]
  },
  {
   "cell_type": "code",
   "execution_count": 73,
   "metadata": {},
   "outputs": [
    {
     "name": "stderr",
     "output_type": "stream",
     "text": [
      "WARNING:absl:`lr` is deprecated, please use `learning_rate` instead, or use the legacy optimizer, e.g.,tf.keras.optimizers.legacy.Adam.\n"
     ]
    },
    {
     "name": "stdout",
     "output_type": "stream",
     "text": [
      "Epoch 1/25\n"
     ]
    },
    {
     "name": "stderr",
     "output_type": "stream",
     "text": [
      "/home/jupyterlab/conda/envs/python/lib/python3.7/site-packages/keras/backend.py:5535: UserWarning: \"`categorical_crossentropy` received `from_logits=True`, but the `output` argument was produced by a Softmax activation and thus does not represent logits. Was this intended?\n",
      "  output, from_logits, \"Softmax\", \"categorical_crossentropy\"\n"
     ]
    },
    {
     "name": "stdout",
     "output_type": "stream",
     "text": [
      "9600/9600 [==============================] - 34s 3ms/step - loss: 0.6371 - accuracy: 0.7733 - val_loss: 0.4962 - val_accuracy: 0.8205\n",
      "Epoch 2/25\n",
      "9600/9600 [==============================] - 31s 3ms/step - loss: 0.4624 - accuracy: 0.8330 - val_loss: 0.4642 - val_accuracy: 0.8321\n",
      "Epoch 3/25\n",
      "9600/9600 [==============================] - 33s 3ms/step - loss: 0.4293 - accuracy: 0.8438 - val_loss: 0.4558 - val_accuracy: 0.8391\n",
      "Epoch 4/25\n",
      "9600/9600 [==============================] - 31s 3ms/step - loss: 0.4051 - accuracy: 0.8537 - val_loss: 0.4287 - val_accuracy: 0.8486\n",
      "Epoch 5/25\n",
      "9600/9600 [==============================] - 32s 3ms/step - loss: 0.3938 - accuracy: 0.8599 - val_loss: 0.4064 - val_accuracy: 0.8504\n",
      "Epoch 6/25\n",
      "9600/9600 [==============================] - 32s 3ms/step - loss: 0.3838 - accuracy: 0.8602 - val_loss: 0.4154 - val_accuracy: 0.8539\n",
      "Epoch 7/25\n",
      "9600/9600 [==============================] - 33s 3ms/step - loss: 0.3763 - accuracy: 0.8633 - val_loss: 0.4055 - val_accuracy: 0.8567\n",
      "Epoch 8/25\n",
      "9600/9600 [==============================] - 31s 3ms/step - loss: 0.3702 - accuracy: 0.8647 - val_loss: 0.4098 - val_accuracy: 0.8517\n",
      "Epoch 9/25\n",
      "9600/9600 [==============================] - 32s 3ms/step - loss: 0.3658 - accuracy: 0.8664 - val_loss: 0.4073 - val_accuracy: 0.8594\n",
      "Epoch 10/25\n",
      "9600/9600 [==============================] - 31s 3ms/step - loss: 0.3606 - accuracy: 0.8679 - val_loss: 0.4007 - val_accuracy: 0.8556\n",
      "Epoch 11/25\n",
      "9600/9600 [==============================] - 32s 3ms/step - loss: 0.3555 - accuracy: 0.8699 - val_loss: 0.4226 - val_accuracy: 0.8544\n",
      "Epoch 12/25\n",
      "9600/9600 [==============================] - 31s 3ms/step - loss: 0.3514 - accuracy: 0.8712 - val_loss: 0.4114 - val_accuracy: 0.8547\n",
      "Epoch 13/25\n",
      "9600/9600 [==============================] - 32s 3ms/step - loss: 0.3486 - accuracy: 0.8733 - val_loss: 0.3956 - val_accuracy: 0.8619\n",
      "Epoch 14/25\n",
      "9600/9600 [==============================] - 31s 3ms/step - loss: 0.3434 - accuracy: 0.8746 - val_loss: 0.4059 - val_accuracy: 0.8608\n",
      "Epoch 15/25\n",
      "9600/9600 [==============================] - 32s 3ms/step - loss: 0.3434 - accuracy: 0.8742 - val_loss: 0.4007 - val_accuracy: 0.8602\n",
      "Epoch 16/25\n",
      "9600/9600 [==============================] - 30s 3ms/step - loss: 0.3398 - accuracy: 0.8751 - val_loss: 0.4160 - val_accuracy: 0.8571\n",
      "Epoch 17/25\n",
      "9600/9600 [==============================] - 32s 3ms/step - loss: 0.3377 - accuracy: 0.8768 - val_loss: 0.4052 - val_accuracy: 0.8614\n",
      "Epoch 18/25\n",
      "9600/9600 [==============================] - 31s 3ms/step - loss: 0.3356 - accuracy: 0.8767 - val_loss: 0.4181 - val_accuracy: 0.8555\n",
      "Epoch 19/25\n",
      "9600/9600 [==============================] - 32s 3ms/step - loss: 0.3318 - accuracy: 0.8775 - val_loss: 0.4333 - val_accuracy: 0.8514\n",
      "Epoch 20/25\n",
      "9600/9600 [==============================] - 31s 3ms/step - loss: 0.3296 - accuracy: 0.8787 - val_loss: 0.4343 - val_accuracy: 0.8482\n",
      "Epoch 21/25\n",
      "9600/9600 [==============================] - 32s 3ms/step - loss: 0.3292 - accuracy: 0.8786 - val_loss: 0.4067 - val_accuracy: 0.8619\n",
      "Epoch 22/25\n",
      "9600/9600 [==============================] - 30s 3ms/step - loss: 0.3280 - accuracy: 0.8803 - val_loss: 0.4198 - val_accuracy: 0.8584\n",
      "Epoch 23/25\n",
      "9600/9600 [==============================] - 33s 3ms/step - loss: 0.3252 - accuracy: 0.8813 - val_loss: 0.4240 - val_accuracy: 0.8601\n",
      "Epoch 24/25\n",
      "9600/9600 [==============================] - 31s 3ms/step - loss: 0.3237 - accuracy: 0.8815 - val_loss: 0.4264 - val_accuracy: 0.8567\n",
      "Epoch 25/25\n",
      "9600/9600 [==============================] - 32s 3ms/step - loss: 0.3230 - accuracy: 0.8815 - val_loss: 0.4142 - val_accuracy: 0.8605\n",
      "313/313 [==============================] - 1s 2ms/step - loss: 0.4319 - accuracy: 0.8557\n",
      "Test results - Loss: 0.43186014890670776 - Accuracy: 85.57000160217285%\n"
     ]
    }
   ],
   "source": [
    "# Enter your solution here\n",
    "feature_vector_shape = X_train.shape[1]\n",
    "input_shape = (feature_vector_shape,)\n",
    "num_classes = 10\n",
    "loss_function_used = CategoricalCrossentropy(from_logits=True)\n",
    "\n",
    "model = Sequential()\n",
    "model.add(Dense(12, input_shape=input_shape, activation='relu', kernel_initializer='he_uniform'))\n",
    "model.add(Dense(8, activation='relu', kernel_initializer='he_uniform'))\n",
    "model.add(Dense(num_classes, activation='softmax'))\n",
    "\n",
    "\n",
    "model.compile(loss=loss_function_used, optimizer=tf.keras.optimizers.Adam(lr=0.001), metrics=['accuracy'])\n",
    "history = model.fit(X_train, y_train_enc, epochs=25, batch_size=5, verbose=1, validation_split=0.2)\n",
    "\n",
    "test_results = model.evaluate(X_test, y_test_enc, verbose=1)\n",
    "print(f'Test results - Loss: {test_results[0]} - Accuracy: {test_results[1]*100}%')\n"
   ]
  },
  {
   "cell_type": "markdown",
   "metadata": {},
   "source": [
    "### (Optional) Exercise 5 - Sparse Categorical Cross Entropy\n"
   ]
  },
  {
   "cell_type": "markdown",
   "metadata": {},
   "source": [
    "We saw that when using categorical cross-entropy, the ground truth labels need to be one-hot encoded. Keras provides another loss function called sparse cross-entropy where we can leave the labels as integers.\n",
    "\n",
    "Build a CNN model with two hidden layers, that uses softmax as the activation function, and sparse categorical cross-entropy as the loss function. Make sure to use the non-one-hot encoded ground-truth labels.  \n"
   ]
  },
  {
   "cell_type": "code",
   "execution_count": null,
   "metadata": {},
   "outputs": [
    {
     "name": "stderr",
     "output_type": "stream",
     "text": [
      "WARNING:absl:`lr` is deprecated, please use `learning_rate` instead, or use the legacy optimizer, e.g.,tf.keras.optimizers.legacy.Adam.\n"
     ]
    },
    {
     "name": "stdout",
     "output_type": "stream",
     "text": [
      "Epoch 1/25\n",
      "9600/9600 [==============================] - 32s 3ms/step - loss: 0.6223 - accuracy: 0.7847 - val_loss: 0.5060 - val_accuracy: 0.8223\n",
      "Epoch 2/25\n",
      "9600/9600 [==============================] - 33s 3ms/step - loss: 0.4637 - accuracy: 0.8385 - val_loss: 0.4354 - val_accuracy: 0.8486\n",
      "Epoch 3/25\n",
      "9600/9600 [==============================] - 31s 3ms/step - loss: 0.4281 - accuracy: 0.8466 - val_loss: 0.4139 - val_accuracy: 0.8550\n",
      "Epoch 4/25\n",
      "9600/9600 [==============================] - 32s 3ms/step - loss: 0.4094 - accuracy: 0.8547 - val_loss: 0.4274 - val_accuracy: 0.8494\n",
      "Epoch 5/25\n",
      "9600/9600 [==============================] - 31s 3ms/step - loss: 0.3945 - accuracy: 0.8602 - val_loss: 0.4124 - val_accuracy: 0.8566\n",
      "Epoch 6/25\n",
      "9600/9600 [==============================] - 32s 3ms/step - loss: 0.3881 - accuracy: 0.8630 - val_loss: 0.4103 - val_accuracy: 0.8577\n",
      "Epoch 7/25\n",
      "9600/9600 [==============================] - 31s 3ms/step - loss: 0.3805 - accuracy: 0.8643 - val_loss: 0.4117 - val_accuracy: 0.8581\n",
      "Epoch 8/25\n",
      "9600/9600 [==============================] - 32s 3ms/step - loss: 0.3742 - accuracy: 0.8666 - val_loss: 0.4136 - val_accuracy: 0.8554\n",
      "Epoch 9/25\n",
      "9600/9600 [==============================] - 31s 3ms/step - loss: 0.3695 - accuracy: 0.8689 - val_loss: 0.4066 - val_accuracy: 0.8594\n",
      "Epoch 10/25\n",
      "5619/9600 [================>.............] - ETA: 11s - loss: 0.3603 - accuracy: 0.8720"
     ]
    }
   ],
   "source": [
    "# Enter your solution here\n",
    "feature_vector_shape = X_train.shape[1]\n",
    "input_shape = (feature_vector_shape,)\n",
    "num_classes = 10\n",
    "loss_function_used = SparseCategoricalCrossentropy()\n",
    "\n",
    "model = Sequential()\n",
    "model.add(Dense(12, input_shape=input_shape, activation='relu', kernel_initializer='he_uniform'))\n",
    "model.add(Dense(8, activation='relu', kernel_initializer='he_uniform'))\n",
    "model.add(Dense(num_classes, activation='softmax'))\n",
    "\n",
    "\n",
    "model.compile(loss=loss_function_used, optimizer=tf.keras.optimizers.Adam(lr=0.001), metrics=['accuracy'])\n",
    "history = model.fit(X_train, y_train, epochs=25, batch_size=5, verbose=1, validation_split=0.2)\n",
    "\n",
    "test_results = model.evaluate(X_test, y_test_enc, verbose=1)\n",
    "print(f'Test results - Loss: {test_results[0]} - Accuracy: {test_results[1]*100}%')\n"
   ]
  },
  {
   "cell_type": "markdown",
   "metadata": {},
   "source": [
    "## References\n"
   ]
  },
  {
   "cell_type": "markdown",
   "metadata": {},
   "source": [
    "Bishop, C., 2006. Pattern Recognition and Machine Learning.\n"
   ]
  },
  {
   "cell_type": "markdown",
   "metadata": {},
   "source": [
    "## Authors\n"
   ]
  },
  {
   "cell_type": "markdown",
   "metadata": {},
   "source": [
    "[Kopal Garg](https://www.linkedin.com/in/gargkopal/?utm_medium=Exinfluencer&utm_source=Exinfluencer&utm_content=000026UJ&utm_term=10006555&utm_id=NA-SkillsNetwork-Channel-SkillsNetworkCoursesIBMDeveloperSkillsNetworkML311Coursera35714171-2022-01-01)\n"
   ]
  },
  {
   "cell_type": "markdown",
   "metadata": {},
   "source": [
    "## Change Log\n"
   ]
  },
  {
   "cell_type": "markdown",
   "metadata": {},
   "source": [
    "|Date (YYYY-MM-DD)|Version|Changed By|Change Description|\n",
    "|-|-|-|-|\n",
    "|2022-05-20|0.1|Kopal Garg|Create Lab|\n",
    "|2022-09-06|0.1|Steve Hord|QA pass edits|\n"
   ]
  },
  {
   "cell_type": "markdown",
   "metadata": {},
   "source": [
    "Copyright © 2022 IBM Corporation. All rights reserved.\n"
   ]
  }
 ],
 "metadata": {
  "kernelspec": {
   "display_name": "Python",
   "language": "python",
   "name": "conda-env-python-py"
  },
  "language_info": {
   "codemirror_mode": {
    "name": "ipython",
    "version": 3
   },
   "file_extension": ".py",
   "mimetype": "text/x-python",
   "name": "python",
   "nbconvert_exporter": "python",
   "pygments_lexer": "ipython3",
   "version": "3.7.12"
  }
 },
 "nbformat": 4,
 "nbformat_minor": 4
}
