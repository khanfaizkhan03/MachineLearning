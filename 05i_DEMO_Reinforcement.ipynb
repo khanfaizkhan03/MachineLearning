{
 "cells": [
  {
   "cell_type": "markdown",
   "metadata": {},
   "source": [
    "<p style=\"text-align:center\">\n",
    "    <a href=\"https://skills.network/?utm_medium=Exinfluencer&utm_source=Exinfluencer&utm_content=000026UJ&utm_term=10006555&utm_id=NA-SkillsNetwork-Channel-SkillsNetworkCoursesIBMDeveloperSkillsNetworkML311Coursera747-2022-01-01\" target=\"_blank\">\n",
    "    <img src=\"https://cf-courses-data.s3.us.cloud-object-storage.appdomain.cloud/assets/logos/SN_web_lightmode.png\" width=\"200\" alt=\"Skills Network Logo\"  />\n",
    "    </a>\n",
    "</p>\n"
   ]
  },
  {
   "cell_type": "markdown",
   "metadata": {
    "run_control": {
     "marked": true
    }
   },
   "source": [
    "# Machine Learning Foundation\n",
    "\n",
    "## Course 5, Part i: Reinforcement Learning DEMO\n"
   ]
  },
  {
   "cell_type": "markdown",
   "metadata": {},
   "source": [
    "## Reinforcement Learning Example\n",
    "\n",
    "In this example from Reinforcement Learning, the task is to use tools from Machine Learning to predict how an agent should act. We will then use those predictions to drive the behavior of the agent. Ideally, our intelligent agent should get a much better score than a random agent.\n",
    "\n",
    "## Key concepts:\n",
    "\n",
    "- **Observation**: These are the states of the game. It describes where the agent currently is.\n",
    "- **Action**: These are the moves that the agent makes.\n",
    "- **Episode**: One full game played from beginning (`env.reset()`) to end (when `done == True`).\n",
    "- **Step**: Part of a game that includes one action. The game transitions from one observation to the next.\n",
    "\n",
    "## Setup\n",
    "\n",
    "This example uses the Python library [OpenAI Gym](https://gym.openai.com/docs/?utm_medium=Exinfluencer&utm_source=Exinfluencer&utm_content=000026UJ&utm_term=10006555&utm_id=NA-SkillsNetwork-Channel-SkillsNetworkCoursesIBMDeveloperSkillsNetworkML311Coursera747-2022-01-01).\n",
    "\n",
    "If you want to install everything (gym can run atari games.) follow [these instructions](https://github.com/openai/gym#installing-everything).\n",
    "\n",
    "Now we can build an environment using OpenAI. \n"
   ]
  },
  {
   "cell_type": "code",
   "execution_count": 43,
   "metadata": {
    "tags": []
   },
   "outputs": [],
   "source": [
    "!mamba install -qy -c conda-forge gym==0.21.0"
   ]
  },
  {
   "cell_type": "code",
   "execution_count": 44,
   "metadata": {
    "tags": []
   },
   "outputs": [],
   "source": [
    "import gym\n",
    "import pandas\n",
    "import numpy as np\n",
    "\n",
    "import warnings\n",
    "warnings.filterwarnings(\"ignore\")\n",
    "\n",
    "def warn(*args, **kwargs):\n",
    "    return None\n",
    "\n",
    "warnings.warn = warn"
   ]
  },
  {
   "cell_type": "markdown",
   "metadata": {},
   "source": [
    "# The first part of the game uses the environment FrozenLake-V0\n",
    "\n",
    "This is a small world with 16 tiles. \n",
    "\n",
    "    SFFF\n",
    "    FHFH\n",
    "    FFFH\n",
    "    HFFG\n",
    "\n",
    "The game starts at the S tile. The object of the game is to get to the goal (G) without landing in a hole (H).\n"
   ]
  },
  {
   "cell_type": "code",
   "execution_count": 45,
   "metadata": {
    "tags": []
   },
   "outputs": [
    {
     "name": "stdout",
     "output_type": "stream",
     "text": [
      "0\n"
     ]
    }
   ],
   "source": [
    "# Build an environment with gym.make()\n",
    "env = gym.make('FrozenLake-v1') # Build a fresh environment\n",
    "\n",
    "# Start a new game with env.reset()\n",
    "current_observation = env.reset() # This starts a new \"episode\" and returns the initial observation\n",
    "\n",
    "# The current observation is just the current location\n",
    "print(current_observation) # Observations are just a number"
   ]
  },
  {
   "cell_type": "code",
   "execution_count": 46,
   "metadata": {
    "tags": []
   },
   "outputs": [
    {
     "name": "stdout",
     "output_type": "stream",
     "text": [
      "\n",
      "\u001b[41mS\u001b[0mFFF\n",
      "FHFH\n",
      "FFFH\n",
      "HFFG\n"
     ]
    }
   ],
   "source": [
    "# we can print the environment if we want to look at it\n",
    "env.render() "
   ]
  },
  {
   "cell_type": "code",
   "execution_count": 47,
   "metadata": {
    "tags": []
   },
   "outputs": [
    {
     "name": "stdout",
     "output_type": "stream",
     "text": [
      "our action space: Discrete(4)\n",
      "our new action: 3\n"
     ]
    }
   ],
   "source": [
    "# the action space for this environment includes four discrete actions\n",
    "\n",
    "print(f\"our action space: {env.action_space}\")\n",
    "\n",
    "new_action = env.action_space.sample() # we can randomly sample actions\n",
    "\n",
    "print(f\"our new action: {new_action}\") # run this cell a few times to get an idea of the action space\n",
    "# what does it look like?"
   ]
  },
  {
   "cell_type": "code",
   "execution_count": 48,
   "metadata": {
    "tags": []
   },
   "outputs": [
    {
     "name": "stdout",
     "output_type": "stream",
     "text": [
      "observation: 0, reward: 0.0, done: False, info: {'prob': 0.3333333333333333}\n",
      "  (Up)\n",
      "\u001b[41mS\u001b[0mFFF\n",
      "FHFH\n",
      "FFFH\n",
      "HFFG\n"
     ]
    }
   ],
   "source": [
    "# now we act! do this with the step function\n",
    "\n",
    "new_action = env.action_space.sample()\n",
    "\n",
    "observation, reward, done, info = env.step(new_action)\n",
    "\n",
    "# here's a look at what we get back\n",
    "print(f\"observation: {observation}, reward: {reward}, done: {done}, info: {info}\")\n",
    "\n",
    "env.render() "
   ]
  },
  {
   "cell_type": "code",
   "execution_count": 63,
   "metadata": {
    "tags": []
   },
   "outputs": [
    {
     "name": "stdout",
     "output_type": "stream",
     "text": [
      "observation: [-0.0429949   0.21708594 -0.0099831  -0.27570492], reward: 1.0, done: False, info: {}\n"
     ]
    },
    {
     "ename": "ImportError",
     "evalue": "\n    Cannot import pyglet.\n    HINT: you can install pyglet directly via 'pip install pyglet'.\n    But if you really just want to install all Gym dependencies and not have to think about it,\n    'pip install -e .[all]' or 'pip install gym[all]' will do it.\n    ",
     "output_type": "error",
     "traceback": [
      "\u001b[0;31m---------------------------------------------------------------------------\u001b[0m",
      "\u001b[0;31mModuleNotFoundError\u001b[0m                       Traceback (most recent call last)",
      "\u001b[0;32m~/conda/envs/python/lib/python3.7/site-packages/gym/envs/classic_control/rendering.py\u001b[0m in \u001b[0;36m<module>\u001b[0;34m\u001b[0m\n\u001b[1;32m     14\u001b[0m \u001b[0;32mtry\u001b[0m\u001b[0;34m:\u001b[0m\u001b[0;34m\u001b[0m\u001b[0;34m\u001b[0m\u001b[0m\n\u001b[0;32m---> 15\u001b[0;31m     \u001b[0;32mimport\u001b[0m \u001b[0mpyglet\u001b[0m\u001b[0;34m\u001b[0m\u001b[0;34m\u001b[0m\u001b[0m\n\u001b[0m\u001b[1;32m     16\u001b[0m \u001b[0;32mexcept\u001b[0m \u001b[0mImportError\u001b[0m \u001b[0;32mas\u001b[0m \u001b[0me\u001b[0m\u001b[0;34m:\u001b[0m\u001b[0;34m\u001b[0m\u001b[0;34m\u001b[0m\u001b[0m\n",
      "\u001b[0;31mModuleNotFoundError\u001b[0m: No module named 'pyglet'",
      "\nDuring handling of the above exception, another exception occurred:\n",
      "\u001b[0;31mImportError\u001b[0m                               Traceback (most recent call last)",
      "\u001b[0;32m/tmp/ipykernel_76/1954009556.py\u001b[0m in \u001b[0;36m<module>\u001b[0;34m\u001b[0m\n\u001b[1;32m     12\u001b[0m     \u001b[0mprint\u001b[0m\u001b[0;34m(\u001b[0m\u001b[0;34mf\"observation: {observation}, reward: {reward}, done: {done}, info: {info}\"\u001b[0m\u001b[0;34m)\u001b[0m\u001b[0;34m\u001b[0m\u001b[0;34m\u001b[0m\u001b[0m\n\u001b[1;32m     13\u001b[0m \u001b[0;34m\u001b[0m\u001b[0m\n\u001b[0;32m---> 14\u001b[0;31m     \u001b[0menv\u001b[0m\u001b[0;34m.\u001b[0m\u001b[0mrender\u001b[0m\u001b[0;34m(\u001b[0m\u001b[0;34m)\u001b[0m\u001b[0;34m\u001b[0m\u001b[0;34m\u001b[0m\u001b[0m\n\u001b[0m",
      "\u001b[0;32m~/conda/envs/python/lib/python3.7/site-packages/gym/core.py\u001b[0m in \u001b[0;36mrender\u001b[0;34m(self, mode, **kwargs)\u001b[0m\n\u001b[1;32m    293\u001b[0m \u001b[0;34m\u001b[0m\u001b[0m\n\u001b[1;32m    294\u001b[0m     \u001b[0;32mdef\u001b[0m \u001b[0mrender\u001b[0m\u001b[0;34m(\u001b[0m\u001b[0mself\u001b[0m\u001b[0;34m,\u001b[0m \u001b[0mmode\u001b[0m\u001b[0;34m=\u001b[0m\u001b[0;34m\"human\"\u001b[0m\u001b[0;34m,\u001b[0m \u001b[0;34m**\u001b[0m\u001b[0mkwargs\u001b[0m\u001b[0;34m)\u001b[0m\u001b[0;34m:\u001b[0m\u001b[0;34m\u001b[0m\u001b[0;34m\u001b[0m\u001b[0m\n\u001b[0;32m--> 295\u001b[0;31m         \u001b[0;32mreturn\u001b[0m \u001b[0mself\u001b[0m\u001b[0;34m.\u001b[0m\u001b[0menv\u001b[0m\u001b[0;34m.\u001b[0m\u001b[0mrender\u001b[0m\u001b[0;34m(\u001b[0m\u001b[0mmode\u001b[0m\u001b[0;34m,\u001b[0m \u001b[0;34m**\u001b[0m\u001b[0mkwargs\u001b[0m\u001b[0;34m)\u001b[0m\u001b[0;34m\u001b[0m\u001b[0;34m\u001b[0m\u001b[0m\n\u001b[0m\u001b[1;32m    296\u001b[0m \u001b[0;34m\u001b[0m\u001b[0m\n\u001b[1;32m    297\u001b[0m     \u001b[0;32mdef\u001b[0m \u001b[0mclose\u001b[0m\u001b[0;34m(\u001b[0m\u001b[0mself\u001b[0m\u001b[0;34m)\u001b[0m\u001b[0;34m:\u001b[0m\u001b[0;34m\u001b[0m\u001b[0;34m\u001b[0m\u001b[0m\n",
      "\u001b[0;32m~/conda/envs/python/lib/python3.7/site-packages/gym/envs/classic_control/cartpole.py\u001b[0m in \u001b[0;36mrender\u001b[0;34m(self, mode)\u001b[0m\n\u001b[1;32m    177\u001b[0m \u001b[0;34m\u001b[0m\u001b[0m\n\u001b[1;32m    178\u001b[0m         \u001b[0;32mif\u001b[0m \u001b[0mself\u001b[0m\u001b[0;34m.\u001b[0m\u001b[0mviewer\u001b[0m \u001b[0;32mis\u001b[0m \u001b[0;32mNone\u001b[0m\u001b[0;34m:\u001b[0m\u001b[0;34m\u001b[0m\u001b[0;34m\u001b[0m\u001b[0m\n\u001b[0;32m--> 179\u001b[0;31m             \u001b[0;32mfrom\u001b[0m \u001b[0mgym\u001b[0m\u001b[0;34m.\u001b[0m\u001b[0menvs\u001b[0m\u001b[0;34m.\u001b[0m\u001b[0mclassic_control\u001b[0m \u001b[0;32mimport\u001b[0m \u001b[0mrendering\u001b[0m\u001b[0;34m\u001b[0m\u001b[0;34m\u001b[0m\u001b[0m\n\u001b[0m\u001b[1;32m    180\u001b[0m \u001b[0;34m\u001b[0m\u001b[0m\n\u001b[1;32m    181\u001b[0m             \u001b[0mself\u001b[0m\u001b[0;34m.\u001b[0m\u001b[0mviewer\u001b[0m \u001b[0;34m=\u001b[0m \u001b[0mrendering\u001b[0m\u001b[0;34m.\u001b[0m\u001b[0mViewer\u001b[0m\u001b[0;34m(\u001b[0m\u001b[0mscreen_width\u001b[0m\u001b[0;34m,\u001b[0m \u001b[0mscreen_height\u001b[0m\u001b[0;34m)\u001b[0m\u001b[0;34m\u001b[0m\u001b[0;34m\u001b[0m\u001b[0m\n",
      "\u001b[0;32m~/conda/envs/python/lib/python3.7/site-packages/gym/envs/classic_control/rendering.py\u001b[0m in \u001b[0;36m<module>\u001b[0;34m\u001b[0m\n\u001b[1;32m     21\u001b[0m     \u001b[0mBut\u001b[0m \u001b[0;32mif\u001b[0m \u001b[0myou\u001b[0m \u001b[0mreally\u001b[0m \u001b[0mjust\u001b[0m \u001b[0mwant\u001b[0m \u001b[0mto\u001b[0m \u001b[0minstall\u001b[0m \u001b[0mall\u001b[0m \u001b[0mGym\u001b[0m \u001b[0mdependencies\u001b[0m \u001b[0;32mand\u001b[0m \u001b[0;32mnot\u001b[0m \u001b[0mhave\u001b[0m \u001b[0mto\u001b[0m \u001b[0mthink\u001b[0m \u001b[0mabout\u001b[0m \u001b[0mit\u001b[0m\u001b[0;34m,\u001b[0m\u001b[0;34m\u001b[0m\u001b[0;34m\u001b[0m\u001b[0m\n\u001b[1;32m     22\u001b[0m     \u001b[0;34m'pip install -e .[all]'\u001b[0m \u001b[0;32mor\u001b[0m \u001b[0;34m'pip install gym[all]'\u001b[0m \u001b[0mwill\u001b[0m \u001b[0mdo\u001b[0m \u001b[0mit\u001b[0m\u001b[0;34m.\u001b[0m\u001b[0;34m\u001b[0m\u001b[0;34m\u001b[0m\u001b[0m\n\u001b[0;32m---> 23\u001b[0;31m     \"\"\"\n\u001b[0m\u001b[1;32m     24\u001b[0m     )\n\u001b[1;32m     25\u001b[0m \u001b[0;34m\u001b[0m\u001b[0m\n",
      "\u001b[0;31mImportError\u001b[0m: \n    Cannot import pyglet.\n    HINT: you can install pyglet directly via 'pip install pyglet'.\n    But if you really just want to install all Gym dependencies and not have to think about it,\n    'pip install -e .[all]' or 'pip install gym[all]' will do it.\n    "
     ]
    }
   ],
   "source": [
    "# we can put this process into a for-loop and see how the game progresses\n",
    "\n",
    "current_observation = env.reset() # start a new game\n",
    "\n",
    "for i in range(7): # run 5 moves\n",
    "\n",
    "    new_action = env.action_space.sample() # same a new action\n",
    "\n",
    "    observation, reward, done, info = env.step(new_action) # step through the action and get the outputs\n",
    "\n",
    "    # here's a look at what we get back\n",
    "    print(f\"observation: {observation}, reward: {reward}, done: {done}, info: {info}\")\n",
    "\n",
    "    env.render() "
   ]
  },
  {
   "cell_type": "markdown",
   "metadata": {},
   "source": [
    "Now we can guess what each of the outputs mean. \n",
    "\n",
    "**Observation** refers to the number of the tile. The tiles appear to be numbered\n",
    "\n",
    "    0 1 2 3\n",
    "    4 5 ...\n",
    "    \n",
    "**Reward** refers to the outcome of the game. We get 1 if we win, zero otherwise.\n",
    "\n",
    "**Done** tells us if the game is still going. It goes to true when we win or fall into a hole.\n",
    "\n",
    "**info** gives extra info about the world. Here, it's probabilities. Can you guess what this means here? Perhaps the world is a bit noisy.\n"
   ]
  },
  {
   "cell_type": "code",
   "execution_count": 50,
   "metadata": {
    "tags": []
   },
   "outputs": [
    {
     "name": "stdout",
     "output_type": "stream",
     "text": [
      "action:3 observation: 0, reward: 0.0, done: False, info: {'prob': 0.3333333333333333}\n",
      "action:3 observation: 0, reward: 0.0, done: False, info: {'prob': 0.3333333333333333}\n",
      "action:1 observation: 1, reward: 0.0, done: False, info: {'prob': 0.3333333333333333}\n",
      "action:2 observation: 2, reward: 0.0, done: False, info: {'prob': 0.3333333333333333}\n",
      "action:1 observation: 6, reward: 0.0, done: False, info: {'prob': 0.3333333333333333}\n",
      "action:1 observation: 10, reward: 0.0, done: False, info: {'prob': 0.3333333333333333}\n",
      "action:3 observation: 9, reward: 0.0, done: False, info: {'prob': 0.3333333333333333}\n",
      "action:1 observation: 13, reward: 0.0, done: False, info: {'prob': 0.3333333333333333}\n",
      "action:3 observation: 14, reward: 0.0, done: False, info: {'prob': 0.3333333333333333}\n",
      "action:1 observation: 13, reward: 0.0, done: False, info: {'prob': 0.3333333333333333}\n",
      "action:1 observation: 12, reward: 0.0, done: True, info: {'prob': 0.3333333333333333}\n"
     ]
    }
   ],
   "source": [
    "# Here's how to simulate an entire episode\n",
    "# We're going to stop rendering it every time to save space\n",
    "# try running this a few. Does it ever win?\n",
    "\n",
    "current_observation = env.reset()\n",
    "done = False\n",
    "\n",
    "while not done:    \n",
    "    new_action = env.action_space.sample()\n",
    "    new_observation, reward, done, info = env.step(new_action)\n",
    "    print(f\"action:{new_action} observation: {new_observation}, reward: {reward}, done: {done}, info: {info}\")"
   ]
  },
  {
   "cell_type": "markdown",
   "metadata": {},
   "source": [
    "Things to think about:\n",
    "- What things do you notice about how the environment and actions work?\n",
    "- What do you think the actions mean?\n",
    "- When the agent performs the same action from the same place (same observation), does the same outcome happen every time?\n"
   ]
  },
  {
   "cell_type": "markdown",
   "metadata": {},
   "source": [
    "The environment has some squares that always end the game (`H` in the render), some that don't (`F`), and one that is presumably the reward, if you get to it.\n",
    "\n",
    "The actions seem like up, down, left, and right. But they also seem stochastic. There seems to be a 1/3 chance of going into 3 different squares with each action. \n"
   ]
  },
  {
   "cell_type": "markdown",
   "metadata": {},
   "source": [
    "# Part 1: Gather data\n",
    "\n",
    "We want to build an intelligent actor but first we have to gather data on which actions are useful.\n",
    "\n",
    "Use the code above as reference. Run a *random* agent through 1,000 or more episodes and collect data on each step.\n",
    "\n",
    "I recommend you store this data in a pandas dataframe. Each row should be a step. Your features should include the following features or similar \n",
    "\n",
    "- `observation` the observation at the beginning of the step (before acting!)\n",
    "- `action` the action randomly sampled\n",
    "- `current_reward` the reward received after the action was performed\n",
    "\n",
    "After you generate this data, it is recommended that you compute a column (such as `total_reward`, that is the total reward for the entire episode).\n",
    "\n",
    "At the end of the data gathering, you should be able to use pandas (or similar) to calculate the average total reward *per episode* of the random agent. The average score should be 1-2%, meaning that the agent very rarely wins.\n",
    "\n",
    "\n",
    "## Hints\n",
    "\n",
    "- `initial_observation = env.reset()` starts a new episode and returns the initial observation.\n",
    "- `new_observation, reward, done, info = env.step(new_action)` executes one action and returns the following observation. You may look at the documentation for the step method if you are curious about what it does. \n",
    "- `done != True` until the game is finished.\n",
    "- we are trying to maximize the reward *per episode*. Our first game gives 0 reward unless the agent travels to the goal.\n",
    "- `env.action_space.n` gives the number of possible actions in the environment. `env.action_space.sample()` allows the agent to randomly sample an action.\n",
    "- `env.observation_space.n` gives the number of possible states in the environment. \n"
   ]
  },
  {
   "cell_type": "code",
   "execution_count": 51,
   "metadata": {
    "tags": []
   },
   "outputs": [],
   "source": [
    "env = gym.make('FrozenLake-v1')\n",
    "\n",
    "num_episodes = 40000\n",
    "\n",
    "life_memory = []\n",
    "for i in range(num_episodes):\n",
    "    \n",
    "    # start a new episode and record all the memories\n",
    "    old_observation = env.reset()\n",
    "    done = False\n",
    "    tot_reward = 0\n",
    "    ep_memory = []\n",
    "    while not done:\n",
    "        new_action = env.action_space.sample()\n",
    "        observation, reward, done, info = env.step(new_action)\n",
    "        tot_reward += reward\n",
    "        \n",
    "        ep_memory.append({\n",
    "            \"observation\": old_observation,\n",
    "            \"action\": new_action,\n",
    "            \"reward\": reward,\n",
    "            \"episode\": i,\n",
    "        })\n",
    "        old_observation = observation\n",
    "        \n",
    "    # incorporate total reward\n",
    "    num_steps = len(ep_memory)\n",
    "    for i, ep_mem in enumerate(ep_memory):\n",
    "        ep_mem[\"tot_reward\"] = tot_reward\n",
    "        ep_mem[\"decay_reward\"] = i*tot_reward/num_steps\n",
    "        \n",
    "    life_memory.extend(ep_memory)\n",
    "    \n",
    "memory_df = pandas.DataFrame(life_memory)"
   ]
  },
  {
   "cell_type": "code",
   "execution_count": 52,
   "metadata": {
    "tags": []
   },
   "outputs": [
    {
     "data": {
      "text/html": [
       "<div>\n",
       "<style scoped>\n",
       "    .dataframe tbody tr th:only-of-type {\n",
       "        vertical-align: middle;\n",
       "    }\n",
       "\n",
       "    .dataframe tbody tr th {\n",
       "        vertical-align: top;\n",
       "    }\n",
       "\n",
       "    .dataframe thead th {\n",
       "        text-align: right;\n",
       "    }\n",
       "</style>\n",
       "<table border=\"1\" class=\"dataframe\">\n",
       "  <thead>\n",
       "    <tr style=\"text-align: right;\">\n",
       "      <th></th>\n",
       "      <th>observation</th>\n",
       "      <th>action</th>\n",
       "      <th>reward</th>\n",
       "      <th>episode</th>\n",
       "      <th>tot_reward</th>\n",
       "      <th>decay_reward</th>\n",
       "    </tr>\n",
       "  </thead>\n",
       "  <tbody>\n",
       "    <tr>\n",
       "      <th>count</th>\n",
       "      <td>307482.000000</td>\n",
       "      <td>307482.000000</td>\n",
       "      <td>307482.000000</td>\n",
       "      <td>307482.000000</td>\n",
       "      <td>307482.000000</td>\n",
       "      <td>307482.000000</td>\n",
       "    </tr>\n",
       "    <tr>\n",
       "      <th>mean</th>\n",
       "      <td>2.233867</td>\n",
       "      <td>1.499239</td>\n",
       "      <td>0.001880</td>\n",
       "      <td>19951.426405</td>\n",
       "      <td>0.024597</td>\n",
       "      <td>0.011358</td>\n",
       "    </tr>\n",
       "    <tr>\n",
       "      <th>std</th>\n",
       "      <td>3.000436</td>\n",
       "      <td>1.118260</td>\n",
       "      <td>0.043316</td>\n",
       "      <td>11554.781366</td>\n",
       "      <td>0.154892</td>\n",
       "      <td>0.084606</td>\n",
       "    </tr>\n",
       "    <tr>\n",
       "      <th>min</th>\n",
       "      <td>0.000000</td>\n",
       "      <td>0.000000</td>\n",
       "      <td>0.000000</td>\n",
       "      <td>0.000000</td>\n",
       "      <td>0.000000</td>\n",
       "      <td>0.000000</td>\n",
       "    </tr>\n",
       "    <tr>\n",
       "      <th>25%</th>\n",
       "      <td>0.000000</td>\n",
       "      <td>0.000000</td>\n",
       "      <td>0.000000</td>\n",
       "      <td>9911.000000</td>\n",
       "      <td>0.000000</td>\n",
       "      <td>0.000000</td>\n",
       "    </tr>\n",
       "    <tr>\n",
       "      <th>50%</th>\n",
       "      <td>1.000000</td>\n",
       "      <td>1.000000</td>\n",
       "      <td>0.000000</td>\n",
       "      <td>19896.000000</td>\n",
       "      <td>0.000000</td>\n",
       "      <td>0.000000</td>\n",
       "    </tr>\n",
       "    <tr>\n",
       "      <th>75%</th>\n",
       "      <td>4.000000</td>\n",
       "      <td>3.000000</td>\n",
       "      <td>0.000000</td>\n",
       "      <td>29946.000000</td>\n",
       "      <td>0.000000</td>\n",
       "      <td>0.000000</td>\n",
       "    </tr>\n",
       "    <tr>\n",
       "      <th>max</th>\n",
       "      <td>14.000000</td>\n",
       "      <td>3.000000</td>\n",
       "      <td>1.000000</td>\n",
       "      <td>39999.000000</td>\n",
       "      <td>1.000000</td>\n",
       "      <td>0.981132</td>\n",
       "    </tr>\n",
       "  </tbody>\n",
       "</table>\n",
       "</div>"
      ],
      "text/plain": [
       "         observation         action         reward        episode  \\\n",
       "count  307482.000000  307482.000000  307482.000000  307482.000000   \n",
       "mean        2.233867       1.499239       0.001880   19951.426405   \n",
       "std         3.000436       1.118260       0.043316   11554.781366   \n",
       "min         0.000000       0.000000       0.000000       0.000000   \n",
       "25%         0.000000       0.000000       0.000000    9911.000000   \n",
       "50%         1.000000       1.000000       0.000000   19896.000000   \n",
       "75%         4.000000       3.000000       0.000000   29946.000000   \n",
       "max        14.000000       3.000000       1.000000   39999.000000   \n",
       "\n",
       "          tot_reward   decay_reward  \n",
       "count  307482.000000  307482.000000  \n",
       "mean        0.024597       0.011358  \n",
       "std         0.154892       0.084606  \n",
       "min         0.000000       0.000000  \n",
       "25%         0.000000       0.000000  \n",
       "50%         0.000000       0.000000  \n",
       "75%         0.000000       0.000000  \n",
       "max         1.000000       0.981132  "
      ]
     },
     "execution_count": 52,
     "metadata": {},
     "output_type": "execute_result"
    }
   ],
   "source": [
    "memory_df.describe()"
   ]
  },
  {
   "cell_type": "code",
   "execution_count": 53,
   "metadata": {
    "tags": []
   },
   "outputs": [
    {
     "data": {
      "text/plain": [
       "(307482, 6)"
      ]
     },
     "execution_count": 53,
     "metadata": {},
     "output_type": "execute_result"
    }
   ],
   "source": [
    "memory_df.shape"
   ]
  },
  {
   "cell_type": "code",
   "execution_count": 54,
   "metadata": {
    "tags": []
   },
   "outputs": [
    {
     "data": {
      "text/plain": [
       "0.01445"
      ]
     },
     "execution_count": 54,
     "metadata": {},
     "output_type": "execute_result"
    }
   ],
   "source": [
    "memory_df.groupby(\"episode\").reward.sum().mean()"
   ]
  },
  {
   "cell_type": "markdown",
   "metadata": {},
   "source": [
    "# Step 2: Predict\n",
    "\n",
    "Now that you have a bunch of data put it into a format that you can model. The goal here is to guide the behavior of our agent. Our agent will be given an observation and need to decide between the possible actions given that observation and the prediction of the model. \n",
    "\n",
    "Remember, you're a data scientist! Be creative. \n",
    "\n",
    "It might be helpful to work backwards. Ultimately, you will write something like:\n",
    "\n",
    "```\n",
    "def convert_to_row(obs, act):\n",
    "    # expertly written code\n",
    "    return row_of_obs_act\n",
    "    \n",
    "rows = [convert_to_row(current_obs, act) for act in possible_actions]\n",
    "\n",
    "pred_outcome = model.predict(rows)\n",
    "```\n",
    "\n",
    "So, you will need to design a quantity that you can ask your model to predict for every possible action-observation pair. Think a bit about what this quantity should be. Should the model try to predict the immediate reward for each action? If so, how would it know where to go at the beginning of each episode when all moves give zero reward but when some moves bring it closer to the goal than others. \n"
   ]
  },
  {
   "cell_type": "code",
   "execution_count": 55,
   "metadata": {
    "tags": []
   },
   "outputs": [
    {
     "data": {
      "text/plain": [
       "ExtraTreesRegressor(bootstrap=False, criterion='mse', max_depth=None,\n",
       "          max_features='auto', max_leaf_nodes=None,\n",
       "          min_impurity_decrease=0.0, min_impurity_split=None,\n",
       "          min_samples_leaf=1, min_samples_split=2,\n",
       "          min_weight_fraction_leaf=0.0, n_estimators=50, n_jobs=None,\n",
       "          oob_score=False, random_state=None, verbose=0, warm_start=False)"
      ]
     },
     "execution_count": 55,
     "metadata": {},
     "output_type": "execute_result"
    }
   ],
   "source": [
    "from sklearn.ensemble import RandomForestRegressor, ExtraTreesRegressor\n",
    "from sklearn.svm import SVR\n",
    "\n",
    "model = ExtraTreesRegressor(n_estimators=50)\n",
    "# model = SVR()\n",
    "y = 0.5*memory_df.reward + 0.1*memory_df.decay_reward + memory_df.tot_reward\n",
    "x = memory_df[[\"observation\", \"action\"]]\n",
    "model.fit(x, y)"
   ]
  },
  {
   "cell_type": "markdown",
   "metadata": {},
   "source": [
    "# Step 3: Act\n",
    "\n",
    "Now that you have a model that predicts the desired behavior, let's act on it! Modify the code you used to gather data so that you replace the random decision with an intelligent one.\n",
    "\n",
    "We started out winning ~1.5% of the games with the random agent. How well can you do? You should be able to get your model to do at least 10x better (so 15%). Can you get ~50%?\n",
    "\n",
    "If you're having trouble, tune your model. Try different representations of the observation and action spaces. Try different models. \n"
   ]
  },
  {
   "cell_type": "code",
   "execution_count": 56,
   "metadata": {
    "tags": []
   },
   "outputs": [
    {
     "data": {
      "text/plain": [
       "0.326"
      ]
     },
     "execution_count": 56,
     "metadata": {},
     "output_type": "execute_result"
    }
   ],
   "source": [
    "model = RandomForestRegressor()\n",
    "y = 1*memory_df.reward + memory_df.tot_reward + .1*memory_df.decay_reward\n",
    "x = memory_df[[\"observation\", \"action\"]]\n",
    "model.fit(x, y)\n",
    "\n",
    "num_episodes = 500\n",
    "random_per = 0\n",
    "\n",
    "life_memory = []\n",
    "for i in range(num_episodes):\n",
    "    # Start a new episode and record all the memories.\n",
    "    old_observation = env.reset()\n",
    "    done = False\n",
    "    tot_reward = 0\n",
    "    ep_memory = []\n",
    "    while not done:\n",
    "        if np.random.rand() < random_per:\n",
    "            new_action = env.action_space.sample()\n",
    "        else:\n",
    "            pred_in = [[old_observation,i] for i in range(4)]\n",
    "            new_action = np.argmax(model.predict(pred_in))\n",
    "        observation, reward, done, info = env.step(new_action)\n",
    "        tot_reward += reward\n",
    "        \n",
    "        ep_memory.append({\n",
    "            \"observation\": old_observation,\n",
    "            \"action\": new_action,\n",
    "            \"reward\": reward,\n",
    "            \"episode\": i,\n",
    "        })\n",
    "        old_observation = observation\n",
    "        \n",
    "    # incorporate total reward\n",
    "    for ep_mem in ep_memory:\n",
    "        ep_mem[\"tot_reward\"] = tot_reward\n",
    "        \n",
    "    life_memory.extend(ep_memory)\n",
    "    \n",
    "memory_df2 = pandas.DataFrame(life_memory)\n",
    "\n",
    "# rf.fit(memory_df[[\"observation\", \"action\"]], memory_df[\"comb_reward\"])\n",
    "\n",
    "# Score\n",
    "# Much better!\n",
    "memory_df2.groupby(\"episode\").reward.sum().mean()"
   ]
  },
  {
   "cell_type": "code",
   "execution_count": 57,
   "metadata": {
    "tags": []
   },
   "outputs": [],
   "source": [
    "y = .1*memory_df.reward + 1*memory_df.decay_reward + 1*memory_df.tot_reward"
   ]
  },
  {
   "cell_type": "markdown",
   "metadata": {},
   "source": [
    "# Extension: Pole cart\n",
    "\n",
    "If time permits, try your hand at pole cart (`env = gym.make('CartPole-v0')`).\n",
    "\n",
    "Notice that the observation space is quite different. It's no longer discrete--instead we have 4 continuous values. You'll have to store these differently from how you did with Frozenlake.\n",
    "\n",
    "My random actor actually does surprisingly well (avg ~22). But my intelligent agent is able to score ~99. Can you beat me? \n"
   ]
  },
  {
   "cell_type": "markdown",
   "metadata": {},
   "source": [
    "# Pole cart\n"
   ]
  },
  {
   "cell_type": "code",
   "execution_count": 58,
   "metadata": {
    "tags": []
   },
   "outputs": [],
   "source": [
    "env = gym.make('CartPole-v1')"
   ]
  },
  {
   "cell_type": "code",
   "execution_count": 59,
   "metadata": {
    "tags": []
   },
   "outputs": [
    {
     "data": {
      "text/plain": [
       "22.306"
      ]
     },
     "execution_count": 59,
     "metadata": {},
     "output_type": "execute_result"
    }
   ],
   "source": [
    "# now we can build a toy world!\n",
    "num_episodes = 1000\n",
    "\n",
    "life_memory = []\n",
    "for i in range(num_episodes):\n",
    "    \n",
    "    # start a new episode and record all the memories\n",
    "    old_observation = env.reset()\n",
    "    done = False\n",
    "    tot_reward = 0\n",
    "    ep_memory = []\n",
    "    while not done:\n",
    "        new_action = env.action_space.sample()\n",
    "        observation, reward, done, info = env.step(new_action)\n",
    "        tot_reward += reward\n",
    "        \n",
    "        ep_memory.append({\n",
    "            \"obs0\": old_observation[0],\n",
    "            \"obs1\": old_observation[1],\n",
    "            \"obs2\": old_observation[2],\n",
    "            \"obs3\": old_observation[3],\n",
    "            \"action\": new_action,\n",
    "            \"reward\": reward,\n",
    "            \"episode\": i,\n",
    "        })\n",
    "        old_observation = observation\n",
    "        \n",
    "    # incorporate total reward\n",
    "    for ep_mem in ep_memory:\n",
    "        ep_mem[\"tot_reward\"] = tot_reward\n",
    "        \n",
    "    life_memory.extend(ep_memory)\n",
    "    \n",
    "memory_df = pandas.DataFrame(life_memory)\n",
    "\n",
    "memory_df.groupby(\"episode\").reward.sum().mean()"
   ]
  },
  {
   "cell_type": "code",
   "execution_count": 60,
   "metadata": {
    "tags": []
   },
   "outputs": [
    {
     "data": {
      "text/html": [
       "<div>\n",
       "<style scoped>\n",
       "    .dataframe tbody tr th:only-of-type {\n",
       "        vertical-align: middle;\n",
       "    }\n",
       "\n",
       "    .dataframe tbody tr th {\n",
       "        vertical-align: top;\n",
       "    }\n",
       "\n",
       "    .dataframe thead th {\n",
       "        text-align: right;\n",
       "    }\n",
       "</style>\n",
       "<table border=\"1\" class=\"dataframe\">\n",
       "  <thead>\n",
       "    <tr style=\"text-align: right;\">\n",
       "      <th></th>\n",
       "      <th>obs0</th>\n",
       "      <th>obs1</th>\n",
       "      <th>obs2</th>\n",
       "      <th>obs3</th>\n",
       "      <th>action</th>\n",
       "      <th>reward</th>\n",
       "      <th>episode</th>\n",
       "      <th>tot_reward</th>\n",
       "    </tr>\n",
       "  </thead>\n",
       "  <tbody>\n",
       "    <tr>\n",
       "      <th>count</th>\n",
       "      <td>22306.000000</td>\n",
       "      <td>22306.000000</td>\n",
       "      <td>22306.000000</td>\n",
       "      <td>22306.000000</td>\n",
       "      <td>22306.000000</td>\n",
       "      <td>22306.0</td>\n",
       "      <td>22306.00000</td>\n",
       "      <td>22306.000000</td>\n",
       "    </tr>\n",
       "    <tr>\n",
       "      <th>mean</th>\n",
       "      <td>0.005059</td>\n",
       "      <td>0.016059</td>\n",
       "      <td>-0.001694</td>\n",
       "      <td>-0.018996</td>\n",
       "      <td>0.503855</td>\n",
       "      <td>1.0</td>\n",
       "      <td>492.93755</td>\n",
       "      <td>28.146059</td>\n",
       "    </tr>\n",
       "    <tr>\n",
       "      <th>std</th>\n",
       "      <td>0.087637</td>\n",
       "      <td>0.524855</td>\n",
       "      <td>0.091751</td>\n",
       "      <td>0.777330</td>\n",
       "      <td>0.499996</td>\n",
       "      <td>0.0</td>\n",
       "      <td>290.16415</td>\n",
       "      <td>14.503138</td>\n",
       "    </tr>\n",
       "    <tr>\n",
       "      <th>min</th>\n",
       "      <td>-0.511387</td>\n",
       "      <td>-2.510669</td>\n",
       "      <td>-0.209405</td>\n",
       "      <td>-2.787094</td>\n",
       "      <td>0.000000</td>\n",
       "      <td>1.0</td>\n",
       "      <td>0.00000</td>\n",
       "      <td>8.000000</td>\n",
       "    </tr>\n",
       "    <tr>\n",
       "      <th>25%</th>\n",
       "      <td>-0.037754</td>\n",
       "      <td>-0.349757</td>\n",
       "      <td>-0.055769</td>\n",
       "      <td>-0.534829</td>\n",
       "      <td>0.000000</td>\n",
       "      <td>1.0</td>\n",
       "      <td>240.00000</td>\n",
       "      <td>17.000000</td>\n",
       "    </tr>\n",
       "    <tr>\n",
       "      <th>50%</th>\n",
       "      <td>0.002371</td>\n",
       "      <td>0.006270</td>\n",
       "      <td>-0.001960</td>\n",
       "      <td>-0.009986</td>\n",
       "      <td>1.000000</td>\n",
       "      <td>1.0</td>\n",
       "      <td>488.50000</td>\n",
       "      <td>24.000000</td>\n",
       "    </tr>\n",
       "    <tr>\n",
       "      <th>75%</th>\n",
       "      <td>0.042471</td>\n",
       "      <td>0.365646</td>\n",
       "      <td>0.051143</td>\n",
       "      <td>0.494927</td>\n",
       "      <td>1.000000</td>\n",
       "      <td>1.0</td>\n",
       "      <td>745.00000</td>\n",
       "      <td>36.000000</td>\n",
       "    </tr>\n",
       "    <tr>\n",
       "      <th>max</th>\n",
       "      <td>1.115603</td>\n",
       "      <td>2.498110</td>\n",
       "      <td>0.209387</td>\n",
       "      <td>2.921992</td>\n",
       "      <td>1.000000</td>\n",
       "      <td>1.0</td>\n",
       "      <td>999.00000</td>\n",
       "      <td>80.000000</td>\n",
       "    </tr>\n",
       "  </tbody>\n",
       "</table>\n",
       "</div>"
      ],
      "text/plain": [
       "               obs0          obs1          obs2          obs3        action  \\\n",
       "count  22306.000000  22306.000000  22306.000000  22306.000000  22306.000000   \n",
       "mean       0.005059      0.016059     -0.001694     -0.018996      0.503855   \n",
       "std        0.087637      0.524855      0.091751      0.777330      0.499996   \n",
       "min       -0.511387     -2.510669     -0.209405     -2.787094      0.000000   \n",
       "25%       -0.037754     -0.349757     -0.055769     -0.534829      0.000000   \n",
       "50%        0.002371      0.006270     -0.001960     -0.009986      1.000000   \n",
       "75%        0.042471      0.365646      0.051143      0.494927      1.000000   \n",
       "max        1.115603      2.498110      0.209387      2.921992      1.000000   \n",
       "\n",
       "        reward      episode    tot_reward  \n",
       "count  22306.0  22306.00000  22306.000000  \n",
       "mean       1.0    492.93755     28.146059  \n",
       "std        0.0    290.16415     14.503138  \n",
       "min        1.0      0.00000      8.000000  \n",
       "25%        1.0    240.00000     17.000000  \n",
       "50%        1.0    488.50000     24.000000  \n",
       "75%        1.0    745.00000     36.000000  \n",
       "max        1.0    999.00000     80.000000  "
      ]
     },
     "execution_count": 60,
     "metadata": {},
     "output_type": "execute_result"
    }
   ],
   "source": [
    "memory_df.describe()"
   ]
  },
  {
   "cell_type": "code",
   "execution_count": 61,
   "metadata": {
    "tags": []
   },
   "outputs": [
    {
     "data": {
      "text/plain": [
       "ExtraTreesRegressor(bootstrap=False, criterion='mse', max_depth=None,\n",
       "          max_features='auto', max_leaf_nodes=None,\n",
       "          min_impurity_decrease=0.0, min_impurity_split=None,\n",
       "          min_samples_leaf=1, min_samples_split=2,\n",
       "          min_weight_fraction_leaf=0.0, n_estimators=50, n_jobs=None,\n",
       "          oob_score=False, random_state=None, verbose=0, warm_start=False)"
      ]
     },
     "execution_count": 61,
     "metadata": {},
     "output_type": "execute_result"
    }
   ],
   "source": [
    "from sklearn.ensemble import RandomForestRegressor, AdaBoostRegressor, ExtraTreesRegressor\n",
    "\n",
    "model = ExtraTreesRegressor(n_estimators=50)\n",
    "\n",
    "memory_df[\"comb_reward\"] = .5*memory_df.reward + memory_df.tot_reward\n",
    "model.fit(memory_df[[\"obs0\", \"obs1\", \"obs2\", \"obs3\", \"action\"]], memory_df.comb_reward)"
   ]
  },
  {
   "cell_type": "code",
   "execution_count": 62,
   "metadata": {
    "tags": []
   },
   "outputs": [
    {
     "data": {
      "text/plain": [
       "153.09"
      ]
     },
     "execution_count": 62,
     "metadata": {},
     "output_type": "execute_result"
    }
   ],
   "source": [
    "num_episodes = 100\n",
    "random_per = 0\n",
    "\n",
    "life_memory = []\n",
    "for i in range(num_episodes):\n",
    "    \n",
    "    # start a new episode and record all the memories\n",
    "    old_observation = env.reset()\n",
    "    done = False\n",
    "    tot_reward = 0\n",
    "    ep_memory = []\n",
    "    while not done:\n",
    "        \n",
    "        \n",
    "        if np.random.rand() < random_per:\n",
    "            new_action = env.action_space.sample()\n",
    "        else:\n",
    "            pred_in = [list(old_observation)+[i] for i in range(2)]\n",
    "            new_action = np.argmax(model.predict(pred_in))\n",
    "        observation, reward, done, info = env.step(new_action)\n",
    "        tot_reward += reward\n",
    "        \n",
    "        ep_memory.append({\n",
    "            \"obs0\": old_observation[0],\n",
    "            \"obs1\": old_observation[1],\n",
    "            \"obs2\": old_observation[2],\n",
    "            \"obs3\": old_observation[3],\n",
    "            \"action\": new_action,\n",
    "            \"reward\": reward,\n",
    "            \"episode\": i,\n",
    "        })\n",
    "        old_observation = observation\n",
    "        \n",
    "    # incorporate total reward\n",
    "    for ep_mem in ep_memory:\n",
    "        ep_mem[\"tot_reward\"] = tot_reward\n",
    "        \n",
    "    life_memory.extend(ep_memory)\n",
    "    \n",
    "memory_df2 = pandas.DataFrame(life_memory)\n",
    "memory_df2[\"comb_reward\"] = memory_df2.reward + memory_df2.tot_reward\n",
    "\n",
    "# score\n",
    "# much better!\n",
    "memory_df2.groupby(\"episode\").reward.sum().mean()"
   ]
  },
  {
   "cell_type": "markdown",
   "metadata": {},
   "source": [
    "---\n",
    "### Machine Learning Foundation © 2022 IBM Corporation\n"
   ]
  }
 ],
 "metadata": {
  "kernelspec": {
   "display_name": "Python",
   "language": "python",
   "name": "conda-env-python-py"
  },
  "language_info": {
   "codemirror_mode": {
    "name": "ipython",
    "version": 3
   },
   "file_extension": ".py",
   "mimetype": "text/x-python",
   "name": "python",
   "nbconvert_exporter": "python",
   "pygments_lexer": "ipython3",
   "version": "3.7.12"
  }
 },
 "nbformat": 4,
 "nbformat_minor": 4
}
